{
 "cells": [
  {
   "cell_type": "markdown",
   "metadata": {},
   "source": [
    "`dict`类型不仅广泛使用，而且是Python语言的基石。模块的命名空间、实例的属性和函数的关键字参数中都可以看到字典的身影，可以用`__builtins__.__dict__`来查看字典相关的内置函数。\\\n",
    "因为字典很重要，Python专门针对字典进行了优化——散列表是字典类型性能出众的根本原因。\n",
    "\n",
    "## 3.1 泛映射类型\n",
    "`collections.abc`模块中有`Mapping`和`MutableMapping`两个抽象基类，主要作用是作为形式化的文档，定义了构建一个映射类型所需要的最基本的接口。非抽象映射类型一般不会直接继承这些抽象基类，而是直接对`dict`或者`collections.UserDict`进行扩展。\n",
    "\n",
    "标准库里所有映射类型都是利用`dict`来实现的，***它们的共同限制是只有可散列的数据类型才能作为这些映射的键***。"
   ]
  },
  {
   "cell_type": "code",
   "execution_count": 19,
   "metadata": {},
   "outputs": [
    {
     "data": {
      "text/plain": [
       "True"
      ]
     },
     "execution_count": 19,
     "metadata": {},
     "output_type": "execute_result"
    }
   ],
   "source": [
    "from collections import abc\n",
    "my_dict = {}\n",
    "isinstance(my_dict, abc.Mapping) # 判断某个数据是不是广义的映射类型"
   ]
  },
  {
   "cell_type": "markdown",
   "metadata": {},
   "source": [
    "> 可散列对象在其生命周期中，其散列值不变，且需要实现`__hash__`方法。另外可散列对象还要有`__eq__`方法，这样才能和其他键做比较。如果两个可散列对象相等，其散列值一定一样。\n",
    "\n",
    "> 原子不可变数据类型都是可散列数据类型，比如`str`, `bytes`和`数值类型`，`frozenset`也是可散列的。只有当元组中包含的所有元素都是可散列类型的情况下，元组才是可散列的。"
   ]
  },
  {
   "cell_type": "code",
   "execution_count": 20,
   "metadata": {},
   "outputs": [
    {
     "data": {
      "text/plain": [
       "8027212646858338501"
      ]
     },
     "execution_count": 20,
     "metadata": {},
     "output_type": "execute_result"
    }
   ],
   "source": [
    "tt = (1, 2, (30,40))\n",
    "hash(tt)"
   ]
  },
  {
   "cell_type": "code",
   "execution_count": 21,
   "metadata": {},
   "outputs": [
    {
     "ename": "TypeError",
     "evalue": "unhashable type: 'list'",
     "output_type": "error",
     "traceback": [
      "\u001b[0;31m-------------------------------------------------------------\u001b[0m",
      "\u001b[0;31mTypeError\u001b[0m                   Traceback (most recent call last)",
      "\u001b[0;32m<ipython-input-21-258d676ca6dc>\u001b[0m in \u001b[0;36m<module>\u001b[0;34m\u001b[0m\n\u001b[1;32m      1\u001b[0m \u001b[0mtl\u001b[0m \u001b[0;34m=\u001b[0m \u001b[0;34m(\u001b[0m\u001b[0;36m1\u001b[0m\u001b[0;34m,\u001b[0m \u001b[0;36m2\u001b[0m\u001b[0;34m,\u001b[0m \u001b[0;34m[\u001b[0m\u001b[0;36m30\u001b[0m\u001b[0;34m,\u001b[0m \u001b[0;36m40\u001b[0m\u001b[0;34m]\u001b[0m\u001b[0;34m)\u001b[0m\u001b[0;34m\u001b[0m\u001b[0;34m\u001b[0m\u001b[0m\n\u001b[0;32m----> 2\u001b[0;31m \u001b[0mhash\u001b[0m\u001b[0;34m(\u001b[0m\u001b[0mtl\u001b[0m\u001b[0;34m)\u001b[0m\u001b[0;34m\u001b[0m\u001b[0;34m\u001b[0m\u001b[0m\n\u001b[0m",
      "\u001b[0;31mTypeError\u001b[0m: unhashable type: 'list'"
     ]
    }
   ],
   "source": [
    "tl = (1, 2, [30, 40])\n",
    "hash(tl)"
   ]
  },
  {
   "cell_type": "code",
   "execution_count": 22,
   "metadata": {},
   "outputs": [
    {
     "data": {
      "text/plain": [
       "985328935373711578"
      ]
     },
     "execution_count": 22,
     "metadata": {},
     "output_type": "execute_result"
    }
   ],
   "source": [
    "tf = (1, 2, frozenset([30, 40]))\n",
    "hash(tf)"
   ]
  },
  {
   "cell_type": "markdown",
   "metadata": {},
   "source": [
    "> 一般用户自定义的类型的对象都是可散列的，散列值是它们`id`函数的返回值，所以所有这些对象在比较时都是不相等的；如果一个对象实现了`__eq__`，且该方法用到了该对象的内部状态，那么只有当这些内部状态不可变的情况下，该对象才是可散列的。"
   ]
  },
  {
   "cell_type": "code",
   "execution_count": 14,
   "metadata": {},
   "outputs": [
    {
     "data": {
      "text/plain": [
       "True"
      ]
     },
     "execution_count": 14,
     "metadata": {},
     "output_type": "execute_result"
    }
   ],
   "source": [
    "# 字典的多种定义方法\n",
    "# a = dict('one'=1, 'two'=2, 'three'=3) 错\n",
    "a = dict(one=1, two=2, three=3)\n",
    "b = {'one':1, 'two':2, 'three':3}\n",
    "c = dict(zip(['one', 'two', 'three'], [1,2,3]))\n",
    "d = dict([('one', 1), ('two', 2), ('three', 3)])\n",
    "e = dict({'three':3, 'two':2, 'one':1})\n",
    "a == b == c == d == e"
   ]
  },
  {
   "cell_type": "markdown",
   "metadata": {},
   "source": [
    "## 3.2 字典推导`dict comprehension`\n",
    "`dictcomp`可以从任何以键值对作为元素的可迭代对象中构造出字典。"
   ]
  },
  {
   "cell_type": "code",
   "execution_count": 8,
   "metadata": {},
   "outputs": [
    {
     "data": {
      "text/plain": [
       "{'China': 86, 'India': 91, 'United States': 1, 'Indonesia': 62}"
      ]
     },
     "execution_count": 8,
     "metadata": {},
     "output_type": "execute_result"
    }
   ],
   "source": [
    "# 字典推导的应用\n",
    "DIAL_CODES = [\n",
    "    (86, 'China'),\n",
    "    (91, 'India'),\n",
    "    (1, 'United States'),\n",
    "    (62, 'Indonesia')\n",
    "]\n",
    "\n",
    "country_code = {country: code for code, country in DIAL_CODES}\n",
    "country_code"
   ]
  },
  {
   "cell_type": "code",
   "execution_count": 13,
   "metadata": {},
   "outputs": [
    {
     "data": {
      "text/plain": [
       "{86: 'CHINA', 91: 'INDIA'}"
      ]
     },
     "execution_count": 13,
     "metadata": {},
     "output_type": "execute_result"
    }
   ],
   "source": [
    "code_country = {code: country.upper() for country, code in country_code.items() if code>=65}\n",
    "code_country"
   ]
  },
  {
   "cell_type": "markdown",
   "metadata": {},
   "source": [
    "## 3.3 常见的映射方法\n",
    "`dict`, `collections.defaultdict` and `collections.OrderedDict`的常见方法：\n",
    "* `defaultdict`: `d.default_factory`，在`__missing__`函数中调用，用来给未找到的元素设置值，这不是一个方法，而是一个可调用对象，它的值在`defaultdict`初始化的时候由用户给出；\n",
    "* `d[k]`调用`d.__getitem__(k)`方法，如果找不到对应键时，`d.__missing__(k)`方法会被调用；\n",
    "* `OrderedDict.popitem`会移除最后加入的元素（后进先出），若其可选`last`参数设置为False，则遵循先进先出（与书中不一致）;\n",
    "\n",
    "* `d.setdefault(k, [default])`: 如果字典中有键k，返回其对应的值，否则让`d[k]=default`，然后返回`default`；\n",
    "* `d.update(m, [**kargs])`方法，`m`可以是映射或键值对迭代器（“鸭子类型”，先检查m参数是否有`keys`方法，如果有，把`m`当作映射对象，否则当作包含了键值对的的迭代器）。"
   ]
  },
  {
   "cell_type": "code",
   "execution_count": 68,
   "metadata": {},
   "outputs": [
    {
     "data": {
      "text/plain": [
       "OrderedDict([('one', 1), ('two', 2), ('three', 3)])"
      ]
     },
     "execution_count": 68,
     "metadata": {},
     "output_type": "execute_result"
    }
   ],
   "source": [
    "from collections import OrderedDict\n",
    "d = OrderedDict()\n",
    "d['one'] = 1\n",
    "d['two'] = 2\n",
    "d['three'] = 3\n",
    "d"
   ]
  },
  {
   "cell_type": "code",
   "execution_count": 32,
   "metadata": {},
   "outputs": [
    {
     "data": {
      "text/plain": [
       "('three', 3)"
      ]
     },
     "execution_count": 32,
     "metadata": {},
     "output_type": "execute_result"
    }
   ],
   "source": [
    "d.popitem()"
   ]
  },
  {
   "cell_type": "markdown",
   "metadata": {},
   "source": [
    "### 用`setdefault`处理找不到的键\n",
    "`d[k]`找不到键的时候，Python会抛出异常，尽管可以用`d.get(k, default)`来代替，但是不方便更新键对应的值。"
   ]
  },
  {
   "cell_type": "code",
   "execution_count": 43,
   "metadata": {},
   "outputs": [
    {
     "name": "stdout",
     "output_type": "stream",
     "text": [
      "a [(19, 48), (20, 53)]\n"
     ]
    }
   ],
   "source": [
    "# sys.argv[1] 获取的是下列命令中的zen.txt\n",
    "# python3 run.py zen.txt\n",
    "\n",
    "import re\n",
    "WORD_RE = re.compile(r'\\w+')  # 匹配任意单词\n",
    "\n",
    "index = {}\n",
    "with open('zen.txt', encoding='utf-8') as fp:\n",
    "    for line_no, line in enumerate(fp, 1): # line_no从1开始计数\n",
    "        for match in WORD_RE.finditer(line): # 该行匹配的所有结果（即全部单词）返回一个迭代器，循环读取\n",
    "            word = match.group()\n",
    "            column_no = match.start() + 1\n",
    "            location = (line_no, column_no)\n",
    "#             # 写法1: 以下写法不好\n",
    "#             occurrences = index.get(word, [])\n",
    "#             occurrences.append(location)\n",
    "#             index[word] = occurrences # 把新列表放回字典，又涉及一次查询操作\n",
    "\n",
    "            # 写法2: 使用setdefault\n",
    "            index.setdefault(word, []).append(location)\n",
    "\n",
    "for word in sorted(index, key=str.upper):\n",
    "    print(word, index[word])\n",
    "    break"
   ]
  },
  {
   "cell_type": "markdown",
   "metadata": {},
   "source": [
    "```\n",
    "my_dict.setdefault(key, []).append(new_value) # 1次键查询\n",
    "```\n",
    "等同于\n",
    "\n",
    "```\n",
    "if key not in my_dict:\n",
    "    my_dict[key] = []\n",
    "my_dict[key].append(new_value) # 至少2次键查询，如果键不存在，则是3次\n",
    "```"
   ]
  },
  {
   "cell_type": "markdown",
   "metadata": {},
   "source": [
    "## 3.4 映射的弹性键查询\n",
    "如果是单纯地查找取值，而不是通过查找插入新值，又该如何处理呢？如果我们希望映射中不存在的键有读取的默认值，我们可以通过\n",
    "* `defaultdict`类\n",
    "* 或 自定义`dict`的一个子类，然后在子类中实现`__missing__`方法\n",
    "\n",
    "来实现。\n",
    "### 3.4.1 `defaultdict`：处理找不到的键的一个选择\n",
    "在实例化`defaultdict`的时候，需要给构造方法提供一个可调用对象，这个可调用对象会在`__getitem__`找不到键的时候被调用。比如新建字典——\n",
    "```\n",
    "dd = defaultdict(list)\n",
    "```\n",
    "如果键`'new-key'`不在`dd`中，则表达式`dd['new-key']`会按照如下步骤行事：\n",
    "1. 调用`list()`生成一个新列表；\n",
    "2. 把新列表作为值，`'new-key'`作为键，放到`dd`中；\n",
    "3. 返回这个列表的引用。"
   ]
  },
  {
   "cell_type": "markdown",
   "metadata": {},
   "source": [
    "这个用来生成默认值的可调用对象存放在名为`default_factory`的实例属性中。\n",
    "> `default_factory`只会在`__getitem__`中被调用，而在`dd.get(k)`中不会发挥作用。因为如下节所说，`__missing__`方法只会被`__getitem__`调用，对`get`或`__contains__`无效。\n",
    "\n",
    "背后功臣是`__missing__`特殊方法，这个特性是所有映射类型都可以选择去支持的，下一节会尝试为自定义`dict`类实现`__mising__`方法。"
   ]
  },
  {
   "cell_type": "code",
   "execution_count": 47,
   "metadata": {},
   "outputs": [
    {
     "data": {
      "text/plain": [
       "list"
      ]
     },
     "execution_count": 47,
     "metadata": {},
     "output_type": "execute_result"
    }
   ],
   "source": [
    "import collections\n",
    "index = collections.defaultdict(list)\n",
    "index.default_factory"
   ]
  },
  {
   "cell_type": "code",
   "execution_count": 46,
   "metadata": {},
   "outputs": [
    {
     "name": "stdout",
     "output_type": "stream",
     "text": [
      "a [(19, 48), (20, 53)]\n"
     ]
    }
   ],
   "source": [
    "import re\n",
    "import sys\n",
    "import collections\n",
    "\n",
    "WORD_RE = re.compile(r'\\w+')\n",
    "\n",
    "index = collections.defaultdict(list) # \n",
    "with open('zen.txt', encoding='utf-8') as fp:\n",
    "    for line_no, line in enumerate(fp, 1):\n",
    "        for match in WORD_RE.finditer(line):\n",
    "            word = match.group()\n",
    "            column_no = match.start()+1\n",
    "            location = (line_no, column_no)\n",
    "            \n",
    "            index[word].append(location) # \n",
    "        \n",
    "for word in sorted(index, key=str.upper):\n",
    "    print(word, index[word])\n",
    "    break"
   ]
  },
  {
   "cell_type": "markdown",
   "metadata": {},
   "source": [
    "### 3.4.2 特殊方法`__missing__`\n",
    "虽然基类`dict`没有实现该方法，但是`dict`是知道这个东西存在的，继承自`dict`的某个类如果提供了`__missing__`方法，也会在`__getitem__`碰到找不到的键时调用它。"
   ]
  },
  {
   "cell_type": "code",
   "execution_count": 60,
   "metadata": {},
   "outputs": [],
   "source": [
    "# StrKeyDict0在查询时把非字符串的键转换为字符串\n",
    "class StrKeyDict0(dict):\n",
    "    \n",
    "    def __missing__(self, key):\n",
    "        if isinstance(key, str):\n",
    "            raise KeyError(key)\n",
    "        return self[str(key)]\n",
    "    \n",
    "    def get(self, key, default):\n",
    "        try:\n",
    "            return self[key]\n",
    "        except KeyError: # 如果抛出KeyError，说明__missing__也失败了，于是返回default\n",
    "            return default\n",
    "        \n",
    "    def __contains__(self, key):\n",
    "        return key in self.keys() or str(key) in self.keys() # 不能使用key in my_dict，否则会陷入无限递归\n"
   ]
  },
  {
   "cell_type": "code",
   "execution_count": 64,
   "metadata": {},
   "outputs": [
    {
     "name": "stdout",
     "output_type": "stream",
     "text": [
      "{'2': 'two', '1': 'one'}\n",
      "one\n",
      "two\n",
      "None\n"
     ]
    }
   ],
   "source": [
    "my_dict = StrKeyDict0([('2', 'two'), ('1', 'one')])\n",
    "print(my_dict)\n",
    "\n",
    "print(my_dict['1'])\n",
    "print(my_dict[2])\n",
    "# print(my_dict[3]) # KeyError\n",
    "print(my_dict.get(3, 'None'))\n"
   ]
  },
  {
   "cell_type": "code",
   "execution_count": 66,
   "metadata": {},
   "outputs": [
    {
     "data": {
      "text/plain": [
       "True"
      ]
     },
     "execution_count": 66,
     "metadata": {},
     "output_type": "execute_result"
    }
   ],
   "source": [
    "2 in my_dict"
   ]
  },
  {
   "cell_type": "markdown",
   "metadata": {},
   "source": [
    ">诸如`k in my_dict.keys()`一类的操作在Python3中很快，即使映射类型对象很大也没关系，因为`dict.keys()`的返回值是一个视图，视图就像一个集合，和字典一样在查找元素时速度很快；而Python2里的`dict.keys()`返回的是一个列表，在处理体积较大的对象时候效率不高，因为`k in my_list`需要扫描整个列表。\n",
    "\n",
    "以上是`dict`和`defaultdict`，下面看标准库里其他的映射类型。\n",
    "## 3.5 字典的变种\n",
    "```\n",
    "collections.OrderedDict\n",
    "```\n",
    "添加键的时候会保持顺序，`popitem`方法默认删除最后一个元素（先进先出）。\n",
    "```\n",
    "collections.ChainMap\n",
    "```\n",
    "可以容纳数个不同的映射对象，然后在进行键查找操作的时候，这些对象会被当做一个整体被逐个查找，直到键被找到。这个功能在给有嵌套作用域的语言做解释器的时候很有用，可以用一个映射对象来代表一个作用域的上下文。"
   ]
  },
  {
   "cell_type": "code",
   "execution_count": 74,
   "metadata": {},
   "outputs": [],
   "source": [
    "import builtins\n",
    "pylookup = collections.ChainMap(locals(), globals(), vars(builtins)) # 是当前notebook的"
   ]
  },
  {
   "cell_type": "markdown",
   "metadata": {},
   "source": [
    "```\n",
    "collections.Counter\n",
    "```\n",
    "这个映射类型会给键准备一个整数计数器，每次更新一个键的时候都会增加这个计数器。\n",
    "1. 给可散列对象计数\n",
    "2. 当成多重集来用，即集合里的元素可以出现不止一次\n",
    "\n",
    "`most_common([n])`返回映射中最常见的n个键和它们的计数。"
   ]
  },
  {
   "cell_type": "code",
   "execution_count": 75,
   "metadata": {},
   "outputs": [
    {
     "data": {
      "text/plain": [
       "Counter({'a': 4, 'b': 2, 'r': 2, 'c': 1, 'd': 1, 'e': 1})"
      ]
     },
     "execution_count": 75,
     "metadata": {},
     "output_type": "execute_result"
    }
   ],
   "source": [
    "ct = collections.Counter('abracdareab')\n",
    "ct"
   ]
  },
  {
   "cell_type": "code",
   "execution_count": 76,
   "metadata": {},
   "outputs": [
    {
     "data": {
      "text/plain": [
       "Counter({'a': 10, 'b': 2, 'r': 2, 'c': 1, 'd': 1, 'e': 1, 'z': 1})"
      ]
     },
     "execution_count": 76,
     "metadata": {},
     "output_type": "execute_result"
    }
   ],
   "source": [
    "ct.update('aaaaaaz')\n",
    "ct"
   ]
  },
  {
   "cell_type": "code",
   "execution_count": 78,
   "metadata": {},
   "outputs": [
    {
     "data": {
      "text/plain": [
       "[('a', 10), ('b', 2), ('r', 2), ('c', 1), ('d', 1), ('e', 1), ('z', 1)]"
      ]
     },
     "execution_count": 78,
     "metadata": {},
     "output_type": "execute_result"
    }
   ],
   "source": [
    "ct.most_common()"
   ]
  },
  {
   "cell_type": "code",
   "execution_count": 79,
   "metadata": {},
   "outputs": [
    {
     "data": {
      "text/plain": [
       "[('a', 10), ('b', 2)]"
      ]
     },
     "execution_count": 79,
     "metadata": {},
     "output_type": "execute_result"
    }
   ],
   "source": [
    "ct.most_common(2)"
   ]
  },
  {
   "cell_type": "markdown",
   "metadata": {},
   "source": [
    "```\n",
    "collections.UserDict\n",
    "```\n",
    "这个类其实就是把标准dict用Python实现了一遍，是为了让用户继承写子类的。"
   ]
  },
  {
   "cell_type": "markdown",
   "metadata": {},
   "source": [
    "## 3.6 子类化`UserDict`\n",
    "以`UserDict`为基类创建自定义映射类型比以普通的`dict`方便，主要原因是后者有些方法的实现会走捷径，导致我们不得不在子类中重写这些方法。\n",
    "\n",
    "`UserDict`不是`dict`的子类，但是它有个属性`data`是`UserDict`的实例，这个属性实际是`UserDict`存储数据的地方。"
   ]
  },
  {
   "cell_type": "code",
   "execution_count": 80,
   "metadata": {},
   "outputs": [],
   "source": [
    "# 无论是添加、更新还是查询操作，StrKeyDict都会把非字符串的键转换为字符串\n",
    "import collections\n",
    "\n",
    "class StrKeyDict(collections.UserDict):\n",
    "    \n",
    "    def __missing__(self, key):\n",
    "        if isinstance(key, str):\n",
    "            raise KeyError(key)\n",
    "        return self[str(key)]\n",
    "    \n",
    "    def __contains__(self, key):\n",
    "        return str(key) in self.data\n",
    "    \n",
    "    def __setitem__(self, key, item):\n",
    "        self.data[str(key)] = item"
   ]
  },
  {
   "cell_type": "code",
   "execution_count": 81,
   "metadata": {},
   "outputs": [
    {
     "data": {
      "text/plain": [
       "{'1': 'one', '2': 'two'}"
      ]
     },
     "execution_count": 81,
     "metadata": {},
     "output_type": "execute_result"
    }
   ],
   "source": [
    "my_dict = StrKeyDict([(1, 'one'), (2, 'two')])\n",
    "my_dict"
   ]
  },
  {
   "cell_type": "code",
   "execution_count": 82,
   "metadata": {},
   "outputs": [
    {
     "data": {
      "text/plain": [
       "'one'"
      ]
     },
     "execution_count": 82,
     "metadata": {},
     "output_type": "execute_result"
    }
   ],
   "source": [
    "my_dict[1]"
   ]
  },
  {
   "cell_type": "code",
   "execution_count": 83,
   "metadata": {},
   "outputs": [
    {
     "data": {
      "text/plain": [
       "'two'"
      ]
     },
     "execution_count": 83,
     "metadata": {},
     "output_type": "execute_result"
    }
   ],
   "source": [
    "my_dict['2']"
   ]
  },
  {
   "cell_type": "code",
   "execution_count": 84,
   "metadata": {},
   "outputs": [
    {
     "data": {
      "text/plain": [
       "'three'"
      ]
     },
     "execution_count": 84,
     "metadata": {},
     "output_type": "execute_result"
    }
   ],
   "source": [
    "my_dict[3] = 'three'\n",
    "my_dict['3']"
   ]
  },
  {
   "cell_type": "markdown",
   "metadata": {},
   "source": [
    "因为`UserDict`继承的是`MutableMapping`，所以`StrKeyDict`里剩下的那些映射类型的方法都是从`UserDict`，`MutableMapping`和`Mapping`这些超类继承来的。`Mapping`虽然是ABC，但提供了好几个实用方法。\n",
    "```\n",
    "MutableMapping.update\n",
    "```\n",
    "这个方法不但可以直接利用，还用在`__init__`里，让构造方法用传入的各种参数新建实例。这个方法背后使用`self[key] = value`来添加新值的，所以其实是在用`__setitem__`方法。\n",
    "```\n",
    "Mapping.get\n",
    "```\n",
    "`StrKeyDict`继承了`Mapping.get`方法，这跟我们写的`StrKeyDict0`中的`get`方法一样，所以不用重新实现以使其与`__getitem__`一致了。"
   ]
  },
  {
   "cell_type": "markdown",
   "metadata": {},
   "source": [
    "## 3.7 不可变映射类型\n",
    "标准库中的映射类型都是可变的。\n",
    "\n",
    "从Python3.3开始，`types`模块中引入了一个封装类名叫`MappingProxyType`，如果给这个类一个映射，它会返回一个动态的只读视图，即原映射修改了，视图会变，但不能通过视图修改原映射。"
   ]
  },
  {
   "cell_type": "code",
   "execution_count": 85,
   "metadata": {},
   "outputs": [
    {
     "data": {
      "text/plain": [
       "mappingproxy({'1': 'A'})"
      ]
     },
     "execution_count": 85,
     "metadata": {},
     "output_type": "execute_result"
    }
   ],
   "source": [
    "# 用MappingProxyType来获取字典的只读实例mappingproxy\n",
    "from types import MappingProxyType\n",
    "\n",
    "d = {'1': 'A'}\n",
    "d_proxy = MappingProxyType(d)\n",
    "d_proxy"
   ]
  },
  {
   "cell_type": "code",
   "execution_count": 86,
   "metadata": {},
   "outputs": [
    {
     "data": {
      "text/plain": [
       "'A'"
      ]
     },
     "execution_count": 86,
     "metadata": {},
     "output_type": "execute_result"
    }
   ],
   "source": [
    "d_proxy['1']"
   ]
  },
  {
   "cell_type": "code",
   "execution_count": 87,
   "metadata": {},
   "outputs": [
    {
     "ename": "TypeError",
     "evalue": "'mappingproxy' object does not support item assignment",
     "output_type": "error",
     "traceback": [
      "\u001b[0;31m-------------------------------------------------------------\u001b[0m",
      "\u001b[0;31mTypeError\u001b[0m                   Traceback (most recent call last)",
      "\u001b[0;32m<ipython-input-87-bddb6b89a3f1>\u001b[0m in \u001b[0;36m<module>\u001b[0;34m\u001b[0m\n\u001b[0;32m----> 1\u001b[0;31m \u001b[0md_proxy\u001b[0m\u001b[0;34m[\u001b[0m\u001b[0;34m'2'\u001b[0m\u001b[0;34m]\u001b[0m \u001b[0;34m=\u001b[0m \u001b[0;34m'B'\u001b[0m\u001b[0;34m\u001b[0m\u001b[0;34m\u001b[0m\u001b[0m\n\u001b[0m",
      "\u001b[0;31mTypeError\u001b[0m: 'mappingproxy' object does not support item assignment"
     ]
    }
   ],
   "source": [
    "d_proxy['2'] = 'B'"
   ]
  },
  {
   "cell_type": "code",
   "execution_count": 88,
   "metadata": {},
   "outputs": [
    {
     "data": {
      "text/plain": [
       "mappingproxy({'1': 'A', '2': 'B'})"
      ]
     },
     "execution_count": 88,
     "metadata": {},
     "output_type": "execute_result"
    }
   ],
   "source": [
    "d['2'] = 'B'\n",
    "d_proxy"
   ]
  },
  {
   "cell_type": "markdown",
   "metadata": {},
   "source": [
    "以上是标准库中的映射类型，下面是集合类型。\n",
    "## 3.8 集合论\n",
    "`set`和`frozenset`在Python2.6中才升级为内置类型。\n",
    "集合本质是许多唯一对象的聚集。"
   ]
  },
  {
   "cell_type": "code",
   "execution_count": 89,
   "metadata": {},
   "outputs": [
    {
     "data": {
      "text/plain": [
       "{'eggs', 'spam'}"
      ]
     },
     "execution_count": 89,
     "metadata": {},
     "output_type": "execute_result"
    }
   ],
   "source": [
    "# 集合用于去重\n",
    "l = ['spam', 'eggs', 'spam', 'spam']\n",
    "set(l)"
   ]
  },
  {
   "cell_type": "markdown",
   "metadata": {},
   "source": [
    "集合中的元素本身必须是可散列的，`set`类型本身不可散列，但是`frozenset`可以。因此可以创建一个包含`frozenset`的`set`。\n",
    "\n",
    "集合提供了很多中缀运算符。"
   ]
  },
  {
   "cell_type": "code",
   "execution_count": 97,
   "metadata": {},
   "outputs": [
    {
     "name": "stdout",
     "output_type": "stream",
     "text": [
      "{1, 2, 3, 4, 5, 6, 7}\n",
      "{4, 5}\n",
      "{1, 2, 3}\n"
     ]
    }
   ],
   "source": [
    "a = set((1, 2, 3, 4, 5))\n",
    "b = set((4, 5, 6, 7))\n",
    "print(a | b) # 合集\n",
    "print(a & b) # 交集\n",
    "print(a - b) # 差集"
   ]
  },
  {
   "cell_type": "code",
   "execution_count": 99,
   "metadata": {},
   "outputs": [
    {
     "name": "stdout",
     "output_type": "stream",
     "text": [
      "2\n",
      "2\n",
      "2\n"
     ]
    }
   ],
   "source": [
    "a = set((1, 2, 3, 4, 5))\n",
    "b = set((4, 5, 6, 7))\n",
    "# 下例显示了中缀运算符的使用可以省去不必要的循环和逻辑操作\n",
    "found = len(a & b)\n",
    "print(found)\n",
    "\n",
    "# 不使用中缀运算符，优点是可以用在任何迭代类型上，缺点是慢\n",
    "found = 0\n",
    "for n in b:\n",
    "    if n in a:\n",
    "        found += 1\n",
    "print(found)\n",
    "\n",
    "# 但我们可以随时创建set类型\n",
    "a = [1, 2, 3, 4, 5]\n",
    "b = [4, 5, 6, 7]\n",
    "found = len(set(a).intersection(b))\n",
    "print(found)"
   ]
  },
  {
   "cell_type": "markdown",
   "metadata": {},
   "source": [
    "### 3.8.1 集合字面量\n",
    "除空集外，集合的字面量`{1}, {1, 2}`等和它的数学形式一样，空集必须写成set()的形式。"
   ]
  },
  {
   "cell_type": "code",
   "execution_count": 101,
   "metadata": {},
   "outputs": [
    {
     "data": {
      "text/plain": [
       "dict"
      ]
     },
     "execution_count": 101,
     "metadata": {},
     "output_type": "execute_result"
    }
   ],
   "source": [
    "a = {}\n",
    "type(a)"
   ]
  },
  {
   "cell_type": "code",
   "execution_count": 103,
   "metadata": {},
   "outputs": [
    {
     "data": {
      "text/plain": [
       "{}"
      ]
     },
     "execution_count": 103,
     "metadata": {},
     "output_type": "execute_result"
    }
   ],
   "source": [
    "a"
   ]
  },
  {
   "cell_type": "code",
   "execution_count": 102,
   "metadata": {},
   "outputs": [
    {
     "data": {
      "text/plain": [
       "set"
      ]
     },
     "execution_count": 102,
     "metadata": {},
     "output_type": "execute_result"
    }
   ],
   "source": [
    "b = set()\n",
    "type(b)"
   ]
  },
  {
   "cell_type": "code",
   "execution_count": 104,
   "metadata": {},
   "outputs": [
    {
     "data": {
      "text/plain": [
       "set()"
      ]
     },
     "execution_count": 104,
     "metadata": {},
     "output_type": "execute_result"
    }
   ],
   "source": [
    "b"
   ]
  },
  {
   "cell_type": "markdown",
   "metadata": {},
   "source": [
    "像`{1, 2, 3}`这种字面量句法比`set([1, 2, 3])`要更快更易读，因为Python必须从set这个名字查询构造方法，然后新建一个列表，最后再把列表传入构造方法。对于前者，Python会用一个专门的叫作BUILD_SET的字节码来创建集合。"
   ]
  },
  {
   "cell_type": "code",
   "execution_count": 106,
   "metadata": {},
   "outputs": [],
   "source": [
    "from dis import dis\n",
    "# dis.dis 反汇编函数"
   ]
  },
  {
   "cell_type": "code",
   "execution_count": 107,
   "metadata": {},
   "outputs": [
    {
     "name": "stdout",
     "output_type": "stream",
     "text": [
      "  1           0 LOAD_CONST               0 (1)\n",
      "              2 BUILD_SET                1\n",
      "              4 RETURN_VALUE\n"
     ]
    }
   ],
   "source": [
    "dis('{1}')"
   ]
  },
  {
   "cell_type": "code",
   "execution_count": 108,
   "metadata": {},
   "outputs": [
    {
     "name": "stdout",
     "output_type": "stream",
     "text": [
      "  1           0 LOAD_NAME                0 (set)\n",
      "              2 LOAD_CONST               0 (1)\n",
      "              4 BUILD_LIST               1\n",
      "              6 CALL_FUNCTION            1\n",
      "              8 RETURN_VALUE\n"
     ]
    }
   ],
   "source": [
    "dis('set([1])')"
   ]
  },
  {
   "cell_type": "markdown",
   "metadata": {},
   "source": [
    "Python里没有针对frozenset的特殊字面量句法，所以只能用构造函数。"
   ]
  },
  {
   "cell_type": "code",
   "execution_count": 109,
   "metadata": {},
   "outputs": [
    {
     "data": {
      "text/plain": [
       "frozenset({0, 1, 2, 3, 4, 5, 6, 7, 8, 9})"
      ]
     },
     "execution_count": 109,
     "metadata": {},
     "output_type": "execute_result"
    }
   ],
   "source": [
    "frozenset(range(10))"
   ]
  },
  {
   "cell_type": "markdown",
   "metadata": {},
   "source": [
    "### 3.8.2 集合推导"
   ]
  },
  {
   "cell_type": "code",
   "execution_count": 116,
   "metadata": {},
   "outputs": [],
   "source": [
    "import unicodedata"
   ]
  },
  {
   "cell_type": "code",
   "execution_count": 118,
   "metadata": {},
   "outputs": [
    {
     "name": "stdout",
     "output_type": "stream",
     "text": [
      "LATIN SMALL LETTER A\n",
      "H\n"
     ]
    }
   ],
   "source": [
    "print(unicodedata.name('a'))\n",
    "print(unicodedata.lookup(unicodedata.name('H')))"
   ]
  },
  {
   "cell_type": "code",
   "execution_count": 135,
   "metadata": {},
   "outputs": [
    {
     "name": "stdout",
     "output_type": "stream",
     "text": [
      "{'#', '£', '÷', '®', '¢', '×', '°', '+', '±', '¤', '¥', 'µ', '$', '<', '>', '¬', '¶', '%', '©', '=', '§'}\n"
     ]
    }
   ],
   "source": [
    "# 新建一个Latin-1字符集合，该集合中每个字符的Unicode名字里都含有‘SIGN这个单词\n",
    "print({chr(i) for i in range(32,256) if 'SIGN' in unicodedata.name(chr(i), '')})"
   ]
  },
  {
   "cell_type": "code",
   "execution_count": 136,
   "metadata": {},
   "outputs": [
    {
     "data": {
      "text/plain": [
       "'NUMBER SIGN'"
      ]
     },
     "execution_count": 136,
     "metadata": {},
     "output_type": "execute_result"
    }
   ],
   "source": [
    "unicodedata.name('#')"
   ]
  },
  {
   "cell_type": "markdown",
   "metadata": {},
   "source": [
    "### 3.8.3 集合的操作"
   ]
  },
  {
   "cell_type": "markdown",
   "metadata": {},
   "source": [
    "集合操作中的中缀运算符要求两侧的操作对象都是集合类型，但是其他的所有方法则只要求传入的参数是可迭代对象。"
   ]
  },
  {
   "cell_type": "code",
   "execution_count": 171,
   "metadata": {},
   "outputs": [
    {
     "data": {
      "text/plain": [
       "{0, 1, 2, 3, 4, 5, 6, 7, 8, 9, 10}"
      ]
     },
     "execution_count": 171,
     "metadata": {},
     "output_type": "execute_result"
    }
   ],
   "source": [
    "a, b, c, d = set(range(0, 3)), list(range(3, 5)), list(range(5, 8)), tuple(range(8, 11))\n",
    "e = a.union(b, c, d)\n",
    "e"
   ]
  },
  {
   "cell_type": "code",
   "execution_count": 172,
   "metadata": {},
   "outputs": [
    {
     "data": {
      "text/plain": [
       "({1, 2, 3, 4}, {3, 4, 5, 6})"
      ]
     },
     "execution_count": 172,
     "metadata": {},
     "output_type": "execute_result"
    }
   ],
   "source": [
    "a = set(range(1, 5))\n",
    "b = set(range(3, 7))\n",
    "a, b"
   ]
  },
  {
   "cell_type": "code",
   "execution_count": 174,
   "metadata": {},
   "outputs": [
    {
     "data": {
      "text/plain": [
       "{1, 2, 5, 6}"
      ]
     },
     "execution_count": 174,
     "metadata": {},
     "output_type": "execute_result"
    }
   ],
   "source": [
    "a ^ b # 对称差集，a和b中不属于a交b的元素的集合"
   ]
  },
  {
   "cell_type": "code",
   "execution_count": 176,
   "metadata": {},
   "outputs": [
    {
     "data": {
      "text/plain": [
       "False"
      ]
     },
     "execution_count": 176,
     "metadata": {},
     "output_type": "execute_result"
    }
   ],
   "source": [
    "a.isdisjoint(b) # 相交判断"
   ]
  },
  {
   "cell_type": "code",
   "execution_count": 178,
   "metadata": {},
   "outputs": [
    {
     "data": {
      "text/plain": [
       "True"
      ]
     },
     "execution_count": 178,
     "metadata": {},
     "output_type": "execute_result"
    }
   ],
   "source": [
    "1 in a # contain与否"
   ]
  },
  {
   "cell_type": "code",
   "execution_count": 179,
   "metadata": {},
   "outputs": [
    {
     "data": {
      "text/plain": [
       "True"
      ]
     },
     "execution_count": 179,
     "metadata": {},
     "output_type": "execute_result"
    }
   ],
   "source": [
    "{1, 2} <= a # 子集判断 s.__le__(z)"
   ]
  },
  {
   "cell_type": "code",
   "execution_count": 180,
   "metadata": {},
   "outputs": [
    {
     "data": {
      "text/plain": [
       "True"
      ]
     },
     "execution_count": 180,
     "metadata": {},
     "output_type": "execute_result"
    }
   ],
   "source": [
    "{1, 2}.issubset(a) # 子集判断"
   ]
  },
  {
   "cell_type": "code",
   "execution_count": 181,
   "metadata": {},
   "outputs": [
    {
     "data": {
      "text/plain": [
       "True"
      ]
     },
     "execution_count": 181,
     "metadata": {},
     "output_type": "execute_result"
    }
   ],
   "source": [
    "{1, 2} < a # 真子集判断 s.__lt__(z)"
   ]
  },
  {
   "cell_type": "code",
   "execution_count": 182,
   "metadata": {},
   "outputs": [
    {
     "data": {
      "text/plain": [
       "True"
      ]
     },
     "execution_count": 182,
     "metadata": {},
     "output_type": "execute_result"
    }
   ],
   "source": [
    "a > {1, 2} and a >= {1, 2} # 父集判断"
   ]
  },
  {
   "cell_type": "markdown",
   "metadata": {},
   "source": [
    "集合的其他操作"
   ]
  },
  {
   "cell_type": "code",
   "execution_count": 203,
   "metadata": {},
   "outputs": [
    {
     "data": {
      "text/plain": [
       "{0, 1, 2}"
      ]
     },
     "execution_count": 203,
     "metadata": {},
     "output_type": "execute_result"
    }
   ],
   "source": [
    "a = set(range(0, 3))\n",
    "a"
   ]
  },
  {
   "cell_type": "code",
   "execution_count": 204,
   "metadata": {},
   "outputs": [
    {
     "data": {
      "text/plain": [
       "{0, 1, 2, 11}"
      ]
     },
     "execution_count": 204,
     "metadata": {},
     "output_type": "execute_result"
    }
   ],
   "source": [
    "a.add(11)\n",
    "a"
   ]
  },
  {
   "cell_type": "code",
   "execution_count": 205,
   "metadata": {},
   "outputs": [
    {
     "name": "stdout",
     "output_type": "stream",
     "text": [
      "{0, 1, 2, 11} {0, 1, 2, 11}\n",
      "{0, 1, 2, 11, 23} {0, 1, 2, 11}\n"
     ]
    }
   ],
   "source": [
    "b = a.copy() # 浅拷贝\n",
    "print(a, b)\n",
    "a.add(23)\n",
    "print(a, b)"
   ]
  },
  {
   "cell_type": "code",
   "execution_count": 207,
   "metadata": {},
   "outputs": [
    {
     "data": {
      "text/plain": [
       "{0, 1, 2, 11}"
      ]
     },
     "execution_count": 207,
     "metadata": {},
     "output_type": "execute_result"
    }
   ],
   "source": [
    "a.discard(23)\n",
    "a"
   ]
  },
  {
   "cell_type": "code",
   "execution_count": 208,
   "metadata": {},
   "outputs": [
    {
     "data": {
      "text/plain": [
       "{0, 1, 2, 11}"
      ]
     },
     "execution_count": 208,
     "metadata": {},
     "output_type": "execute_result"
    }
   ],
   "source": [
    "a.discard(45) # 如果a中有该元素，则移除，否则并不报错\n",
    "# a.remove(45) # 会报错，KeyError\n",
    "a"
   ]
  },
  {
   "cell_type": "code",
   "execution_count": 209,
   "metadata": {},
   "outputs": [
    {
     "data": {
      "text/plain": [
       "0"
      ]
     },
     "execution_count": 209,
     "metadata": {},
     "output_type": "execute_result"
    }
   ],
   "source": [
    "a.pop()"
   ]
  },
  {
   "cell_type": "code",
   "execution_count": 210,
   "metadata": {},
   "outputs": [
    {
     "name": "stdout",
     "output_type": "stream",
     "text": [
      "{1, 2, 11}\n",
      "set()\n"
     ]
    }
   ],
   "source": [
    "print(a)\n",
    "a.clear()\n",
    "print(a)"
   ]
  },
  {
   "cell_type": "markdown",
   "metadata": {},
   "source": [
    "## 3.9 `dict`和`set`背后\n",
    "* Python里dict和set的效率有多高？\n",
    "* 为什么它们是无序的？\n",
    "* 为什们不是所有Python对象都可以当作dict的键或set的元素？\n",
    "* 为什么dict的键和set元素的顺序是根据它们被添加的次序而定的，以及为什么在映射对象的生命周期中，这个顺序并不是一成不变的？\n",
    "* 为什么不应该在迭代循环dict或set的同时往里面添加元素？\n",
    "\n",
    "### 3.9.1 一个关于效率的实验\n",
    "如果在你的程序中有任何的磁盘输入/输出，那么不管查询有多少个元素的字典或集合，所耗费的时间都能忽略不计（前提是字典或集合不超过内存大小）。\n",
    "\n",
    "但列表背后没有散列表支持`in`运算符，复杂度是`O(n)`。"
   ]
  },
  {
   "cell_type": "markdown",
   "metadata": {},
   "source": [
    "### 3.9.2 字典中的散列表\n",
    "散列表其实是一个稀疏数组（即总是有空白元素的数组）。散列表里的单元通常称为表元。在`dict`中，每个键值对要占用一个表元，每个表元包含两部分，一是对键的引用，二是对值的引用。因为所有表元的大小一致，可以通过偏移量来读取某个表元。\n",
    "\n",
    "Python会设法保证大概还有1/3的表元是空的，所以在快要达到这个阈值的时候，原有的散列表会被复制到一个更大的空间里面。\n",
    "\n",
    "如果要把一个对象放入散列表里，首先要计算这个元素的散列值，Python中使用`hash()`来做这件事。\n",
    "\n",
    "#### 1. 散列值和相等性\n",
    "内置的`hash()`方法可以用于所有内置类型对象。如果是自定义对象调用`hash()`，实际运行的是自定义的`__hash__`。如果两个对象比较时是相等的，那么它们的散列值必须相等，比如`1 == 1.0`为真，则`hash(1) == hash(1.0)为真`。\n",
    "\n",
    "为了让散列值胜任散列表索引的角色，它们在散列空间必须尽尽量分散开来。这意味着最理想的是，越是相似但不相等的对象，它们的散列值应该差别越大。比如1和1.0散列值相同，但是和1.00001的散列值差别很大。"
   ]
  },
  {
   "cell_type": "code",
   "execution_count": 219,
   "metadata": {},
   "outputs": [
    {
     "data": {
      "text/plain": [
       "'0b1'"
      ]
     },
     "execution_count": 219,
     "metadata": {},
     "output_type": "execute_result"
    }
   ],
   "source": [
    "bin(hash(1)) # CPython：如果一个整型对象，能被存入一个机器字中，那么它的散列值就是它本身的值。"
   ]
  },
  {
   "cell_type": "code",
   "execution_count": 217,
   "metadata": {},
   "outputs": [
    {
     "data": {
      "text/plain": [
       "'0b1'"
      ]
     },
     "execution_count": 217,
     "metadata": {},
     "output_type": "execute_result"
    }
   ],
   "source": [
    "bin(hash(1.0))"
   ]
  },
  {
   "cell_type": "code",
   "execution_count": 218,
   "metadata": {},
   "outputs": [
    {
     "data": {
      "text/plain": [
       "'0b101001111100010110101100010001110010000000001'"
      ]
     },
     "execution_count": 218,
     "metadata": {},
     "output_type": "execute_result"
    }
   ],
   "source": [
    "bin(hash(1.00001))"
   ]
  },
  {
   "cell_type": "markdown",
   "metadata": {},
   "source": [
    "> 从Python3.3开始, str, bytes和datetime对象的散列值计算过程多了随机“加盐”这一步。“盐值”是Python进程的一个常量，但每次启动Python解释器都会生成新的盐值。随机盐值加入的目的是防止DOS攻击。\n",
    "\n",
    "#### 2. 散列值和相等性\n",
    "`my_dict[search_key]`的处理过程：\n",
    "* 首先调用`hash(search_key)`来计算散列值；\n",
    "* 把散列值最低的几位数字当作偏移量，在散列表中查找表元（具体取几位，视当前散列表大小决定）；\n",
    "* 若找到的表元是空的，则抛出`KeyError`异常；\n",
    "* 若非空，表元内有一对`found_key: found_value`，Python会检查`search_key == found_key`是否为真，若真，返回`found_value`；若假，即散列冲突，则使用散列值的另一部分当作索引寻找表元。\n",
    "\n",
    "添加新元素：发现空元时会放入新元素；\\\n",
    "更新现有键值：在找到对应表元后，用新值替换原表里的值对象。\n",
    "\n",
    "插入新值时，Python会根据散列表的拥挤程度决定是否为其重新分配空间来扩容。如果散列表变大，那散列值所占位数和用作索引的位数都会增加，减少散列冲突发生的概率。\n",
    "\n",
    "实际使用中，即使`dict`中有数百万个元素，散列冲突也很少发生。\n",
    "\n",
    "### 3.9.3 `dict`的实现及其导致的后果\n",
    "#### 1. 键必须是可散列的\n",
    "一个可散列对象必须满足以下要求：\n",
    "* 支持`hash()`函数，并且通过`__hash__`所得到的散列值是不变的；\n",
    "* 支持通过`__eq__`方法检测相等性；\n",
    "* 若`a == b`为真，则`hash(a) == hash(b)`也为真。\n",
    "\n",
    "> 如果你实现了一个类的`__eq__`方法，并且希望它是可散列的，那么它一定要有个恰当的`__hash__`方法，保证上述第三条，否则会破坏恒定的散列表算法。另外，如果含有自定义`__eq__`的类处于可变的状态，就不要实现`__hash__`方法，因为它的实例是不可散列的。\n",
    "\n",
    "#### 2. 字典在内存上开销巨大\n",
    "原因是字典使用散列表，而散列表是稀疏的。\n",
    "\n",
    "在存放数量巨大的记录时，使用元组或具名元组构成的列表会比字典构成的列表好：\n",
    "* 避免散列表浪费的时间；\n",
    "* 避免在每个元素中都存一遍记录中的字段名。\n",
    "\n",
    "> * 在用户自定义的类型中，`__slots__`属性可以改变实例属性的存储方式，由`dict`变成`tuple`（见9.8节）。\n",
    "> * 我们现在谈的是空间优化，但空间优化往往是可维护性的对立面，如果空间不紧张，可以先不考虑空间优化。\n",
    "\n",
    "#### 3. 键查询很快\n",
    "`dict`的实现是典型的空间换时间。\n",
    "\n",
    "#### 4. 键的次序取决于添加顺序\n",
    "原因是散列冲突时新键可能会被存放到另一个位置。"
   ]
  },
  {
   "cell_type": "code",
   "execution_count": 1,
   "metadata": {},
   "outputs": [],
   "source": [
    "# 将同样的数据以不同的顺序添加到3个字典中\n",
    "DIAL_CODES = [(86, 'China'), \n",
    "              (91, 'Inida'), \n",
    "              (1, 'United States'), \n",
    "              (62, 'Indonesia'), \n",
    "              (55, 'Brazil')]\n",
    "\n",
    "d1 = dict(DIAL_CODES)\n",
    "d2 = dict(sorted(DIAL_CODES))\n",
    "d3 = dict(sorted(DIAL_CODES, key=lambda x: x[1]))"
   ]
  },
  {
   "cell_type": "code",
   "execution_count": 2,
   "metadata": {},
   "outputs": [
    {
     "name": "stdout",
     "output_type": "stream",
     "text": [
      "dict_keys([86, 91, 1, 62, 55])\n",
      "dict_keys([1, 55, 62, 86, 91])\n",
      "dict_keys([55, 86, 62, 91, 1])\n"
     ]
    }
   ],
   "source": [
    "print(d1.keys())\n",
    "print(d2.keys())\n",
    "print(d3.keys())"
   ]
  },
  {
   "cell_type": "code",
   "execution_count": 3,
   "metadata": {},
   "outputs": [
    {
     "data": {
      "text/plain": [
       "True"
      ]
     },
     "execution_count": 3,
     "metadata": {},
     "output_type": "execute_result"
    }
   ],
   "source": [
    "d1 == d2 == d3 # 虽然键的次数是乱的，这3个字典依然被认为是相等的"
   ]
  },
  {
   "cell_type": "markdown",
   "metadata": {},
   "source": [
    "#### 5. 往字典里添加新键可能会改变已有键的顺序\n",
    "添加新键时Python可能会为字典扩容，即新建一个大散列表，把字典中已有的元素添加到新表里，这个过程可能发生新的散列冲突，导致新散列表中键的次序变化。注意，以上变化是否发生以及如何发生，都依赖于字典背后的实现，所以我们无法确切知道背后发生了什么。\n",
    "\n",
    "如果在迭代字典所有键的同时对字典进行修改，那么这个循环可能会跳过一些键——甚至是跳过字典中已有的键。\n",
    "\n",
    "建议：首先迭代，在一个新字典中存放需要添加的内容；迭代结束后再对原字典进行修改。\n",
    "\n",
    "> Python3中，`.keys()`，`.items()`和`.values()`返回的是字典视图（更像集合而非如Python2一般返回列表），视图是动态的。\n",
    "\n",
    "### 3.9.4 `set`的实现以及导致的结果\n",
    "`set`和`frozenset`的实现也依赖散列表。特点如前述`dict`的特点。"
   ]
  },
  {
   "cell_type": "markdown",
   "metadata": {},
   "source": [
    "## 3.10 本章小结\n",
    "字典算是Python的基石。除了`dict`，`collections`模块还提供了`defaultdict`，`ChainMap`和`Counter`等特殊映射类型，以及便于扩展的`UserDict`类。\n",
    " \n",
    " 大多数映射类型都提供两个很强大的方法：`setdefault`和`update`：\n",
    " * `setdefault`可以更新字典里存放的可变值（比如列表），避免重复的键搜索；\n",
    " * `update`允许我们批量插入新值或更新已有键值对，其参数可以是键值对组成的迭代对象或映射对象（映射类型的构造方法会利用`update`方法）。\n",
    " \n",
    " \n",
    "在映射类型的API中，有个很好用的方法是`__missing__`，可以通过自定义该方法决定找不到键发生什么。\n",
    " \n",
    "`collections.abc`模块提供了`Mapping`和`MutableMapping`两个抽象基类，利用它们，我们可以进行类型查询或引用。`MappingProxyType`可以用来创建不可变映射类型。另外还有`Set`和`MutableSet`两个抽象基类。\n",
    " \n",
    " `dict`和`set`背后的散列表效率很高，理解其实现，我们会理解为什么被保存的元素会呈现不同的顺序，以及已有元素顺序发生变化的原因。同时，速度是牺牲空间换来的。"
   ]
  },
  {
   "cell_type": "code",
   "execution_count": null,
   "metadata": {},
   "outputs": [],
   "source": []
  }
 ],
 "metadata": {
  "kernelspec": {
   "display_name": "Python 3",
   "language": "python",
   "name": "python3"
  },
  "language_info": {
   "codemirror_mode": {
    "name": "ipython",
    "version": 3
   },
   "file_extension": ".py",
   "mimetype": "text/x-python",
   "name": "python",
   "nbconvert_exporter": "python",
   "pygments_lexer": "ipython3",
   "version": "3.7.4"
  },
  "toc": {
   "base_numbering": 1,
   "nav_menu": {},
   "number_sections": true,
   "sideBar": true,
   "skip_h1_title": false,
   "title_cell": "Table of Contents",
   "title_sidebar": "Contents",
   "toc_cell": false,
   "toc_position": {
    "height": "calc(100% - 180px)",
    "left": "10px",
    "top": "150px",
    "width": "165px"
   },
   "toc_section_display": true,
   "toc_window_display": true
  }
 },
 "nbformat": 4,
 "nbformat_minor": 2
}
