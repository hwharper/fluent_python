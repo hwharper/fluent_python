{
 "cells": [
  {
   "attachments": {},
   "cell_type": "markdown",
   "metadata": {},
   "source": [
    "# 第1章 Python数据模型\n",
    "Python最好的品质之一是一致性。\\\n",
    "Python风格（Pythonic）的关键是它的设计思想，这种设计思想完全体现在Python的数据模型上，数据模型所提供的API为使用最地道的语言特性来构建你自己的对象提供了工具。\\\n",
    "数据模型其实是对Python框架的描述，规范了这门语言自身构建模块的接口。\\\n",
    "\n",
    "## 1.1 一摞Python风格的纸牌\n",
    "本节利用一个简单例子来展示两个特殊方法`__getitem__`和`__len__`的实现。"
   ]
  },
  {
   "cell_type": "code",
   "execution_count": 2,
   "metadata": {
    "scrolled": true
   },
   "outputs": [
    {
     "data": {
      "text/plain": [
       "Card(rank='7', suit='diamonds')"
      ]
     },
     "execution_count": 2,
     "metadata": {},
     "output_type": "execute_result"
    }
   ],
   "source": [
    "import collections\n",
    "\n",
    "# 首先用namedtuple构建一个简单的类表示一张纸牌\n",
    "# namedtuple可以用来构建只有少数属性但没有方法的对象，有方法可以用class\n",
    "Card = collections.namedtuple('Card', ['rank', 'suit'])\n",
    "\n",
    "beer_card = Card('7', 'diamonds')\n",
    "beer_card"
   ]
  },
  {
   "cell_type": "code",
   "execution_count": 3,
   "metadata": {
    "code_folding": []
   },
   "outputs": [
    {
     "name": "stdout",
     "output_type": "stream",
     "text": [
      "['spades', 'diamonds', 'clubs', 'hearts']\n"
     ]
    }
   ],
   "source": [
    "# 一摞有序的纸牌\n",
    "class FrenchDeck():\n",
    "    ranks = [str(n) for n in range(2,11)] + list('JQKA')\n",
    "    suits = 'spades diamonds clubs hearts'.split()\n",
    "    print(suits)\n",
    "    \n",
    "    def __init__(self):\n",
    "        self._cards = [Card(rank, suit) for suit in self.suits for rank in self.ranks]\n",
    "    \n",
    "    def __len__(self):\n",
    "        return len(self._cards)\n",
    "    \n",
    "    def __getitem__(self, position):\n",
    "        return self._cards[position]"
   ]
  },
  {
   "cell_type": "code",
   "execution_count": 4,
   "metadata": {
    "scrolled": true
   },
   "outputs": [
    {
     "name": "stdout",
     "output_type": "stream",
     "text": [
      "52\n"
     ]
    }
   ],
   "source": [
    "deck = FrenchDeck()\n",
    "print(len(deck))"
   ]
  },
  {
   "cell_type": "code",
   "execution_count": 5,
   "metadata": {},
   "outputs": [
    {
     "data": {
      "text/plain": [
       "Card(rank='2', suit='spades')"
      ]
     },
     "execution_count": 5,
     "metadata": {},
     "output_type": "execute_result"
    }
   ],
   "source": [
    "deck[0]"
   ]
  },
  {
   "cell_type": "code",
   "execution_count": 6,
   "metadata": {},
   "outputs": [
    {
     "data": {
      "text/plain": [
       "Card(rank='A', suit='hearts')"
      ]
     },
     "execution_count": 6,
     "metadata": {},
     "output_type": "execute_result"
    }
   ],
   "source": [
    "deck[-1]"
   ]
  },
  {
   "cell_type": "code",
   "execution_count": 7,
   "metadata": {},
   "outputs": [
    {
     "data": {
      "text/plain": [
       "[Card(rank='2', suit='spades'),\n",
       " Card(rank='3', suit='spades'),\n",
       " Card(rank='4', suit='spades')]"
      ]
     },
     "execution_count": 7,
     "metadata": {},
     "output_type": "execute_result"
    }
   ],
   "source": [
    "deck[:3]"
   ]
  },
  {
   "cell_type": "code",
   "execution_count": 8,
   "metadata": {
    "scrolled": true
   },
   "outputs": [
    {
     "data": {
      "text/plain": [
       "[Card(rank='A', suit='spades'),\n",
       " Card(rank='A', suit='diamonds'),\n",
       " Card(rank='A', suit='clubs'),\n",
       " Card(rank='A', suit='hearts')]"
      ]
     },
     "execution_count": 8,
     "metadata": {},
     "output_type": "execute_result"
    }
   ],
   "source": [
    "# 切片\n",
    "deck[12::13] # 只看牌面是A的牌"
   ]
  },
  {
   "cell_type": "code",
   "execution_count": 9,
   "metadata": {},
   "outputs": [
    {
     "data": {
      "text/plain": [
       "Card(rank='Q', suit='clubs')"
      ]
     },
     "execution_count": 9,
     "metadata": {},
     "output_type": "execute_result"
    }
   ],
   "source": [
    "from random import choice\n",
    "# 从序列中随机选一个元素\n",
    "\n",
    "choice(deck)"
   ]
  },
  {
   "cell_type": "code",
   "execution_count": 10,
   "metadata": {},
   "outputs": [
    {
     "name": "stdout",
     "output_type": "stream",
     "text": [
      "Card(rank='2', suit='spades')\n"
     ]
    }
   ],
   "source": [
    "# 迭代\n",
    "# 两种方式都可以\n",
    "# for card in deck._cards:\n",
    "#     print(card)\n",
    "\n",
    "for card in deck:\n",
    "    print(card)\n",
    "    break"
   ]
  },
  {
   "cell_type": "markdown",
   "metadata": {},
   "source": [
    "迭代通常是隐式的，如果一个集合类型没有实现`__contains__`方法，那么`in`运算符就会按顺序做一次迭代搜索。"
   ]
  },
  {
   "cell_type": "code",
   "execution_count": 11,
   "metadata": {
    "scrolled": true
   },
   "outputs": [
    {
     "data": {
      "text/plain": [
       "True"
      ]
     },
     "execution_count": 11,
     "metadata": {},
     "output_type": "execute_result"
    }
   ],
   "source": [
    "Card('A', 'hearts') in deck"
   ]
  },
  {
   "cell_type": "code",
   "execution_count": 13,
   "metadata": {},
   "outputs": [
    {
     "data": {
      "text/plain": [
       "False"
      ]
     },
     "execution_count": 13,
     "metadata": {},
     "output_type": "execute_result"
    }
   ],
   "source": [
    "Card('A', 'beasts') in deck"
   ]
  },
  {
   "cell_type": "code",
   "execution_count": 14,
   "metadata": {
    "scrolled": true
   },
   "outputs": [
    {
     "data": {
      "text/plain": [
       "['2', '3', '4', '5', '6', '7', '8', '9', '10', 'J', 'Q', 'K', 'A']"
      ]
     },
     "execution_count": 14,
     "metadata": {},
     "output_type": "execute_result"
    }
   ],
   "source": [
    "FrenchDeck.ranks # a list"
   ]
  },
  {
   "cell_type": "code",
   "execution_count": 15,
   "metadata": {
    "scrolled": true
   },
   "outputs": [
    {
     "name": "stdout",
     "output_type": "stream",
     "text": [
      "0\n",
      "12\n"
     ]
    }
   ],
   "source": [
    "# 返回2的索引\n",
    "print(FrenchDeck.ranks.index('2'))\n",
    "print(FrenchDeck.ranks.index('A'))"
   ]
  },
  {
   "cell_type": "code",
   "execution_count": 16,
   "metadata": {},
   "outputs": [
    {
     "name": "stdout",
     "output_type": "stream",
     "text": [
      "48\n",
      "51\n"
     ]
    }
   ],
   "source": [
    "# 排序\n",
    "suit_values = dict(spades=3, hearts=2, diamonds=1, clubs=0)\n",
    "\n",
    "# 返回card对应的排序优先度\n",
    "def spades_high(card):\n",
    "    rank_value = FrenchDeck.ranks.index(card.rank) # 因为存在JQKA，所以需要得到数字索引\n",
    "    return rank_value * len(suit_values) + suit_values[card.suit] # 相同点数再根据花色判断\n",
    "\n",
    "print(spades_high(Card('A', 'clubs')))\n",
    "print(spades_high(Card('A', 'spades')))"
   ]
  },
  {
   "cell_type": "code",
   "execution_count": 17,
   "metadata": {
    "code_folding": []
   },
   "outputs": [
    {
     "name": "stdout",
     "output_type": "stream",
     "text": [
      "Card(rank='2', suit='clubs')\n",
      "Card(rank='2', suit='diamonds')\n",
      "Card(rank='2', suit='hearts')\n",
      "Card(rank='2', suit='spades')\n",
      "Card(rank='3', suit='clubs')\n",
      "Card(rank='3', suit='diamonds')\n",
      "Card(rank='3', suit='hearts')\n",
      "Card(rank='3', suit='spades')\n",
      "Card(rank='4', suit='clubs')\n",
      "Card(rank='4', suit='diamonds')\n",
      "Card(rank='4', suit='hearts')\n",
      "Card(rank='4', suit='spades')\n",
      "Card(rank='5', suit='clubs')\n",
      "Card(rank='5', suit='diamonds')\n",
      "Card(rank='5', suit='hearts')\n",
      "Card(rank='5', suit='spades')\n",
      "Card(rank='6', suit='clubs')\n",
      "Card(rank='6', suit='diamonds')\n",
      "Card(rank='6', suit='hearts')\n",
      "Card(rank='6', suit='spades')\n",
      "Card(rank='7', suit='clubs')\n",
      "Card(rank='7', suit='diamonds')\n",
      "Card(rank='7', suit='hearts')\n",
      "Card(rank='7', suit='spades')\n",
      "Card(rank='8', suit='clubs')\n",
      "Card(rank='8', suit='diamonds')\n",
      "Card(rank='8', suit='hearts')\n",
      "Card(rank='8', suit='spades')\n",
      "Card(rank='9', suit='clubs')\n",
      "Card(rank='9', suit='diamonds')\n",
      "Card(rank='9', suit='hearts')\n",
      "Card(rank='9', suit='spades')\n",
      "Card(rank='10', suit='clubs')\n",
      "Card(rank='10', suit='diamonds')\n",
      "Card(rank='10', suit='hearts')\n",
      "Card(rank='10', suit='spades')\n",
      "Card(rank='J', suit='clubs')\n",
      "Card(rank='J', suit='diamonds')\n",
      "Card(rank='J', suit='hearts')\n",
      "Card(rank='J', suit='spades')\n",
      "Card(rank='Q', suit='clubs')\n",
      "Card(rank='Q', suit='diamonds')\n",
      "Card(rank='Q', suit='hearts')\n",
      "Card(rank='Q', suit='spades')\n",
      "Card(rank='K', suit='clubs')\n",
      "Card(rank='K', suit='diamonds')\n",
      "Card(rank='K', suit='hearts')\n",
      "Card(rank='K', suit='spades')\n",
      "Card(rank='A', suit='clubs')\n",
      "Card(rank='A', suit='diamonds')\n",
      "Card(rank='A', suit='hearts')\n",
      "Card(rank='A', suit='spades')\n"
     ]
    }
   ],
   "source": [
    "for card in sorted(deck, key=spades_high):\n",
    "    print(card)\n",
    "#     break"
   ]
  },
  {
   "cell_type": "markdown",
   "metadata": {},
   "source": [
    "通过实现`__len__`和`__getitem__`两个特殊方法，`FrenchDeck`可以像Python自有的序列数据类型一样，体现出Python语言的核心特性，比如迭代和切片，还可以使用标准库的一些操作，比如`random.choice`、`reversed`和`sorted`等函数。"
   ]
  },
  {
   "cell_type": "code",
   "execution_count": 20,
   "metadata": {},
   "outputs": [],
   "source": [
    "# 按照目前的设计，FrenchDeck是不能洗牌的，因为这摞牌是immutable；除非破坏类的封装性，直接对列表_cards进行操作\n",
    "# deck.sort() 不可行\n",
    "\n",
    "deck._cards.sort() # 直接对列表进行操作可以，而且修改了deck的顺序"
   ]
  },
  {
   "cell_type": "code",
   "execution_count": 21,
   "metadata": {},
   "outputs": [
    {
     "data": {
      "text/plain": [
       "Card(rank='10', suit='clubs')"
      ]
     },
     "execution_count": 21,
     "metadata": {},
     "output_type": "execute_result"
    }
   ],
   "source": [
    "deck[0] # 验证已经修改了顺序"
   ]
  },
  {
   "attachments": {},
   "cell_type": "markdown",
   "metadata": {},
   "source": [
    "## 1.2 如何使用特殊方法\n",
    "特殊方法是为了python解释器调用的，比如`__len__`，而我自己使用应该是`len(my_object)`。\n",
    "\n",
    "如果是Python内置的类型，在调用`__len__`时，CPython其实返回的是`PyVarObject`里的`ob_size`属性，而非调用一个方法。`PyVarObject`是表示内存中长度可变的内置对象的C语言结构体。\n",
    "\n",
    "有时候特殊方法会被隐式调用，比如`for i in x`其实用的是`iter(x)`，而这个函数背后用的是`x.__iter()__`方法。\n",
    "\n",
    "直接调用特殊方法的概率应该低于我自己实现它的概率，除了`__init__`，目的是在你子类的`__init__`方法中调用超类的构造器。\n",
    "\n",
    "通过内置函数(`len`，`iter`，`str`等)使用特殊方法是最好的选择。不要自己随意添加特殊方法。\n",
    "### 1.2.1 模拟数值类型\n",
    "\n",
    "本章实现一个二维向量类，可以使用`+`，`*`进行相加、标量乘法。遇到内置函数`abs`时返回向量的模。"
   ]
  },
  {
   "cell_type": "code",
   "execution_count": 1,
   "metadata": {},
   "outputs": [
    {
     "name": "stdout",
     "output_type": "stream",
     "text": [
      "3\n",
      "5.5\n"
     ]
    }
   ],
   "source": [
    "print(abs(3))\n",
    "print(abs(5.5))\n",
    "# 如果是复数，返回复数的模"
   ]
  },
  {
   "cell_type": "code",
   "execution_count": 3,
   "metadata": {
    "scrolled": true
   },
   "outputs": [
    {
     "name": "stdout",
     "output_type": "stream",
     "text": [
      "Help on built-in function hypot in module math:\n",
      "\n",
      "hypot(x, y, /)\n",
      "    Return the Euclidean distance, sqrt(x*x + y*y).\n",
      "\n"
     ]
    }
   ],
   "source": [
    "from math import hypot\n",
    "help(hypot)"
   ]
  },
  {
   "cell_type": "code",
   "execution_count": 12,
   "metadata": {},
   "outputs": [],
   "source": [
    "# 一个简单的二维向量类\n",
    "class Vector():\n",
    "    \n",
    "    def __init__(self, x=0, y=0):\n",
    "        self.x = x\n",
    "        self.y = y\n",
    "        \n",
    "    def __repr__(self):\n",
    "        # %r而非%d，这是一个好习惯，意味着Vector(1,2)和Vector('1','2')不一样\n",
    "        return('Vector(%r, %r)' % (self.x, self.y)) \n",
    "        \n",
    "    def __abs__(self):\n",
    "        return hypot(self.x, self.y)\n",
    "    \n",
    "    def __bool__(self):\n",
    "        return bool(abs(self))\n",
    "    \n",
    "    def __add__(self, vector):\n",
    "        return(Vector(self.x+vector.x, self.y+vector.y))\n",
    "    \n",
    "    def __mul__(self, scalar):\n",
    "        return(Vector(self.x*scalar, self.y*scalar))"
   ]
  },
  {
   "cell_type": "code",
   "execution_count": 14,
   "metadata": {},
   "outputs": [
    {
     "data": {
      "text/plain": [
       "Vector(2, 3)"
      ]
     },
     "execution_count": 14,
     "metadata": {},
     "output_type": "execute_result"
    }
   ],
   "source": [
    "v1 = Vector(2,3)\n",
    "v1 # python会调用__repr__"
   ]
  },
  {
   "cell_type": "code",
   "execution_count": 18,
   "metadata": {},
   "outputs": [
    {
     "data": {
      "text/plain": [
       "Vector(3, 4)"
      ]
     },
     "execution_count": 18,
     "metadata": {},
     "output_type": "execute_result"
    }
   ],
   "source": [
    "v2 = Vector(3, 4)\n",
    "v2"
   ]
  },
  {
   "cell_type": "code",
   "execution_count": 19,
   "metadata": {},
   "outputs": [
    {
     "data": {
      "text/plain": [
       "Vector(5, 7)"
      ]
     },
     "execution_count": 19,
     "metadata": {},
     "output_type": "execute_result"
    }
   ],
   "source": [
    "v1+v2"
   ]
  },
  {
   "cell_type": "code",
   "execution_count": 10,
   "metadata": {},
   "outputs": [
    {
     "data": {
      "text/plain": [
       "5.0"
      ]
     },
     "execution_count": 10,
     "metadata": {},
     "output_type": "execute_result"
    }
   ],
   "source": [
    "abs(v2)"
   ]
  },
  {
   "cell_type": "code",
   "execution_count": 11,
   "metadata": {},
   "outputs": [
    {
     "data": {
      "text/plain": [
       "Vector(9, 12)"
      ]
     },
     "execution_count": 11,
     "metadata": {},
     "output_type": "execute_result"
    }
   ],
   "source": [
    "v2*3"
   ]
  },
  {
   "cell_type": "markdown",
   "metadata": {},
   "source": [
    "### 1.2.2 字符串表达形式\n",
    "内置函数`repr`把一个对象以字符串形式表达出来以便辨认，即“字符串表达形式”，如果没有实现`__repr__`，可能打印的结果是`<Vecotr Object at xxxxx>`。\n",
    "\n",
    "`%`格式化字符串是老的用法，`str.format`是新的用法，都利用了`repr`函数来获取对象的标准字符串表示形式。目前是两种用法并存的局面。\n",
    "\n",
    "`__repr__`返回的字符串应该准确无歧义，尽可能表达该被打印的对象是如何创建的，本例采用类似*调用对象构造器*的表达形式。\\\n",
    "`__repr__`和`__str__`函数的区别是，后者在`str`函数或`print`使用的时候被调用，输出更为友好。但如果只实现一个，建议实现`__repr__`，因为如果没有`__str__`，而Python又需要使用时会用`__repr__`代替。反之不会。\n",
    "\n",
    "[What is the difference between `__str__` and `__repr__`?](https://stackoverflow.com/questions/1436703/what-is-the-difference-between-str-and-repr/1436756#1436756)"
   ]
  },
  {
   "cell_type": "markdown",
   "metadata": {},
   "source": [
    "### 1.2.3 算术运算符\n",
    "`+`, `\\`等中缀运算符的基本原则是不改变操作对象，而是产出一个新值。"
   ]
  },
  {
   "cell_type": "markdown",
   "metadata": {},
   "source": [
    "### 1.2.4 自定义的布尔值\n",
    "为了判断一个对象是真还是假，Python会调用`bool(x)`。一般情况下，我们自定义的类的实例被认为是真的，除非自己定义了`__bool__`或者`__len__`函数，如果没有`__bool__`，python会调用`__len__`，如果返回0，则`bool`会返回`False`。"
   ]
  },
  {
   "cell_type": "markdown",
   "metadata": {},
   "source": [
    "## 1.3 特殊方法一览\n",
    "增量赋值运算符是一种把中缀运算符变成赋值运算的捷径(`a = a * b`变成`a *= b`)。"
   ]
  },
  {
   "attachments": {},
   "cell_type": "markdown",
   "metadata": {},
   "source": [
    "## 1.4 为什么len不是普通方法？\n",
    "实用胜于纯粹。（Python之禅）\n",
    "\n",
    "如果`x`是一个内置类型的实例，CPython会直接从一个C结构体中读取对象的长度，完全不会调用任何方法，这是很快的，而这一操作很常见。`len`之所以不是普通方法，是为了让Python自带的数据结构可以走后门。\n",
    "\n",
    "又由于`len`是特殊方法，我们也可以用于自定义数据类型，因此在保持内置类型的效率和保证语言一致性间找到了一个平衡点。"
   ]
  },
  {
   "cell_type": "markdown",
   "metadata": {},
   "source": [
    "## 1.5 本章小结\n",
    "1. 通过实现特殊方法，自定义数据类型可以表现得跟内置类型一样，从而写出更加pythonic的代码。\n",
    "2. Python对象的一个基本要求是有合理的字符串表示形式，可以用`__repr__`和`__str__`来实现。\n",
    "3. 对序列数据类型的模拟是特殊方法使用最多的地方。\n",
    "4. Python通过运算符重载提供了丰富的数据类型，比如本章实现的Vector类。\n",
    "\n",
    "元对象（metaobject）是指对建构语言本身来讲很重要的对象。元对象协议，协议可以看作接口，元对象协议是对象模型的同义词，它们的意思都是构建核心语言的API。一套丰富的元对象协议能让我们对语言进行拓展。\n",
    "新概念：面向方面编程"
   ]
  },
  {
   "cell_type": "code",
   "execution_count": null,
   "metadata": {},
   "outputs": [],
   "source": []
  }
 ],
 "metadata": {
  "kernelspec": {
   "display_name": "Python 3",
   "language": "python",
   "name": "python3"
  },
  "language_info": {
   "codemirror_mode": {
    "name": "ipython",
    "version": 3
   },
   "file_extension": ".py",
   "mimetype": "text/x-python",
   "name": "python",
   "nbconvert_exporter": "python",
   "pygments_lexer": "ipython3",
   "version": "3.9.9"
  },
  "toc": {
   "base_numbering": 1,
   "nav_menu": {},
   "number_sections": true,
   "sideBar": true,
   "skip_h1_title": false,
   "title_cell": "Table of Contents",
   "title_sidebar": "Contents",
   "toc_cell": false,
   "toc_position": {},
   "toc_section_display": true,
   "toc_window_display": true
  },
  "vscode": {
   "interpreter": {
    "hash": "aee8b7b246df8f9039afb4144a1f6fd8d2ca17a180786b69acc140d282b71a49"
   }
  }
 },
 "nbformat": 4,
 "nbformat_minor": 2
}
