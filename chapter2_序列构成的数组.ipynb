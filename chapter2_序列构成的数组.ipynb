{
 "cells": [
  {
   "cell_type": "markdown",
   "metadata": {},
   "source": [
    "Python继承了ABC(Abstract Base Class, 抽象基类)用统一的风格处理序列数据这一特点，支持迭代、切片、排序和拼接。\n",
    "## 2.1 内置序列类型概览\n",
    "* 容器类型 - 存放不同类型的数据，存放的是引用。\\\n",
    "`list`, `tuple` and `collections.deque`\n",
    "* 扁平序列 - 只能存放一种类型的数据，存放的是值而非引用，扁平序列是一段连续的内存空间。\\\n",
    "`str`, `bytes`, `bytearray`, `memoryview` and `array.array`"
   ]
  },
  {
   "cell_type": "markdown",
   "metadata": {},
   "source": [
    "* 可变序列(MutableSequence_ - `list`, `bytearray`, `array.array`, `collections.deque` and `memoryview`.\n",
    "* 不可变序列(Sequence) - `tuple`, `str` and `bytes`.\\\n",
    "\n",
    "内置的序列类型不是从MutableSequence和Sequence两个ABC继承来的。"
   ]
  },
  {
   "cell_type": "markdown",
   "metadata": {},
   "source": [
    "## 2.2 列表推导和生成器表达式\n",
    "list comprehension (listcomps) 列表推导式\n",
    "generator expression (genexps) 生成器表达式\n",
    "### 2.2.1 列表推导式和可读性\n",
    "列表推导式可以帮助我们把一个序列或是其他可迭代类型中的元素过滤或是加工，然后再新建一个列表。\n",
    "一般只用列表推导式来创建新的列表，如果列表推导式太复杂，比如超过两行，就可以考虑用`for`循环了。"
   ]
  },
  {
   "cell_type": "code",
   "execution_count": 5,
   "metadata": {},
   "outputs": [
    {
     "name": "stdout",
     "output_type": "stream",
     "text": [
      "97\n",
      "a\n"
     ]
    }
   ],
   "source": [
    "# chr函数/ ord函数\n",
    "code = ord('a')\n",
    "symbol = chr(code)\n",
    "print(code)\n",
    "print(symbol)"
   ]
  },
  {
   "cell_type": "code",
   "execution_count": 1,
   "metadata": {},
   "outputs": [
    {
     "name": "stdout",
     "output_type": "stream",
     "text": [
      "[36, 94, 38, 42, 103, 64]\n",
      "[36, 94, 38, 42, 103, 64]\n"
     ]
    }
   ],
   "source": [
    "# 把一个字符串变成Unicode码位的列表\n",
    "symbols = '$^&*g@'\n",
    "codes = []\n",
    "for symbol in symbols:\n",
    "    codes.append(ord(symbol))\n",
    "print(codes)\n",
    "\n",
    "# 把一个字符串变成Unicode码位的另外一种写法\n",
    "codes = [ord(symbol) for symbol in symbols]\n",
    "print(codes)"
   ]
  },
  {
   "cell_type": "markdown",
   "metadata": {},
   "source": [
    "列表推导式内部的变量和赋值有局部作用域。"
   ]
  },
  {
   "cell_type": "code",
   "execution_count": 2,
   "metadata": {},
   "outputs": [
    {
     "name": "stdout",
     "output_type": "stream",
     "text": [
      "test\n",
      "['A', 'B', 'C']\n"
     ]
    }
   ],
   "source": [
    "x = 'test'\n",
    "dummy = [x for x in 'ABC']\n",
    "print(x)\n",
    "print(dummy)"
   ]
  },
  {
   "cell_type": "markdown",
   "metadata": {},
   "source": [
    "### 2.2.2 列表推导同`filter`和`map`的比较\n",
    "首先了解下map和filter。"
   ]
  },
  {
   "cell_type": "code",
   "execution_count": 8,
   "metadata": {},
   "outputs": [
    {
     "data": {
      "text/plain": [
       "'$^&*g@'"
      ]
     },
     "execution_count": 8,
     "metadata": {},
     "output_type": "execute_result"
    }
   ],
   "source": [
    "symbols"
   ]
  },
  {
   "cell_type": "code",
   "execution_count": 9,
   "metadata": {},
   "outputs": [
    {
     "data": {
      "text/plain": [
       "<map at 0x7fab3c3f27d0>"
      ]
     },
     "execution_count": 9,
     "metadata": {},
     "output_type": "execute_result"
    }
   ],
   "source": [
    "map(ord, symbols)"
   ]
  },
  {
   "cell_type": "code",
   "execution_count": 10,
   "metadata": {},
   "outputs": [
    {
     "data": {
      "text/plain": [
       "[36, 94, 38, 42, 103, 64]"
      ]
     },
     "execution_count": 10,
     "metadata": {},
     "output_type": "execute_result"
    }
   ],
   "source": [
    "list(map(ord, symbols))"
   ]
  },
  {
   "cell_type": "code",
   "execution_count": 3,
   "metadata": {},
   "outputs": [
    {
     "data": {
      "text/plain": [
       "[94, 103]"
      ]
     },
     "execution_count": 3,
     "metadata": {},
     "output_type": "execute_result"
    }
   ],
   "source": [
    "list(filter(lambda c: c > 70, map(ord, symbols)))"
   ]
  },
  {
   "cell_type": "code",
   "execution_count": 4,
   "metadata": {},
   "outputs": [
    {
     "name": "stdout",
     "output_type": "stream",
     "text": [
      "[0, 1, 2, 3, 4, 5, 6, 7, 8, 9]\n",
      "[1, 3, 5, 7, 9]\n"
     ]
    }
   ],
   "source": [
    "print(list(range(10)))\n",
    "print(list(filter(lambda n: n%2==1, list(range(10)))))"
   ]
  },
  {
   "cell_type": "markdown",
   "metadata": {},
   "source": [
    "用列表推导和map/filter组合来创建同样的表单。"
   ]
  },
  {
   "cell_type": "code",
   "execution_count": 5,
   "metadata": {},
   "outputs": [
    {
     "name": "stdout",
     "output_type": "stream",
     "text": [
      "[94, 42, 126]\n",
      "[94, 42, 126]\n"
     ]
    }
   ],
   "source": [
    "# 用列表推导和map/filter组合来创建同样的表单\n",
    "symbols = '#$%^&*~!'\n",
    "beyond_ascii1 = [ord(s) for s in symbols if ord(s)>40]\n",
    "beyond_ascii2 = list(filter(lambda c:c>40, map(ord, symbols)))\n",
    "print(beyond_ascii1)\n",
    "print(beyond_ascii2)"
   ]
  },
  {
   "cell_type": "markdown",
   "metadata": {},
   "source": [
    "### 2.2.3 笛卡尔积\n",
    "笛卡尔积是一个列表，其中元素为输入的可迭代类型的元素对组成的元组。"
   ]
  },
  {
   "cell_type": "code",
   "execution_count": 6,
   "metadata": {},
   "outputs": [
    {
     "name": "stdout",
     "output_type": "stream",
     "text": [
      "[('black', 'S'), ('black', 'M'), ('black', 'L'), ('white', 'S'), ('white', 'M'), ('white', 'L')]\n",
      "[('black', 'S'), ('white', 'S'), ('black', 'M'), ('white', 'M'), ('black', 'L'), ('white', 'L')]\n"
     ]
    }
   ],
   "source": [
    "# 使用列表推导计算笛卡尔积\n",
    "colors = ['black', 'white']\n",
    "sizes = ['S', 'M', 'L']\n",
    "tshirts1 = [(color, size) for color in colors for size in sizes]  # 先以颜色排列，再按尺寸排列\n",
    "print(tshirts1)\n",
    "\n",
    "tshirts2 = [(color, size) for size in sizes for color in colors]  # 先以尺寸排列，再按颜色排列\n",
    "print(tshirts2)"
   ]
  },
  {
   "cell_type": "markdown",
   "metadata": {},
   "source": [
    "### 2.2.4 生成器表达式\n",
    "列表推导也可以初始化元组、数组或其他序列类型：先建立一个完整的列表，再把这个列表传递到某个构造函数。\\\n",
    "但生成器表达式是更好的选择，它遵循迭代器协议，可以逐个地产出元素，比起列表推导更节省内存，将列表推导的方括号换成圆括号即可。"
   ]
  },
  {
   "cell_type": "code",
   "execution_count": 1,
   "metadata": {},
   "outputs": [
    {
     "data": {
      "text/plain": [
       "(35, 36, 37, 94, 38, 42, 126, 33)"
      ]
     },
     "execution_count": 1,
     "metadata": {},
     "output_type": "execute_result"
    }
   ],
   "source": [
    "# 用生成器表达式初始化元组\n",
    "symbols = '#$%^&*~!'\n",
    "tuple(ord(s) for s in symbols)\n",
    "# 如果生成器表达式是一个函数的唯一参数，那么不需要用圆括号"
   ]
  },
  {
   "cell_type": "code",
   "execution_count": 8,
   "metadata": {},
   "outputs": [
    {
     "name": "stdout",
     "output_type": "stream",
     "text": [
      "array('d', [35.0, 36.0, 37.0, 94.0, 38.0, 42.0, 126.0, 33.0])\n",
      "array('I', [35, 36, 37, 94, 38, 42, 126, 33])\n"
     ]
    }
   ],
   "source": [
    "# 用生成器表达式初始化数组\n",
    "import array\n",
    "print(array.array('d', (ord(s) for s in symbols)))"
   ]
  },
  {
   "cell_type": "code",
   "execution_count": 11,
   "metadata": {},
   "outputs": [
    {
     "name": "stdout",
     "output_type": "stream",
     "text": [
      "array('I', [35, 36, 37, 94, 38, 42, 126, 33])\n",
      "array('u', 'abc')\n"
     ]
    }
   ],
   "source": [
    "# 补充知识 array\n",
    "print(array.array('I', (ord(s) for s in symbols)))\n",
    "# array() argument 1 must be a unicode character, not generator\n",
    "# 该参数指定了数组中数字/元素的存储方式\n",
    "# must be b, B, u, h, H, i, I, l, L, q, Q, f or d\n",
    "# array不只能存数字, 'u' - Unicode character\n",
    "print(array.array('u', ['a','b','c']))"
   ]
  },
  {
   "cell_type": "code",
   "execution_count": 12,
   "metadata": {},
   "outputs": [
    {
     "name": "stdout",
     "output_type": "stream",
     "text": [
      "   black   S\n",
      "   black   M\n",
      "   black   L\n",
      "   white   S\n",
      "   white   M\n",
      "   white   L\n"
     ]
    }
   ],
   "source": [
    "# 使用生成器表达式计算笛卡尔积\n",
    "# 相比列表推导式，节省for循环的开销，即列表\n",
    "colors = ['black', 'white']\n",
    "sizes = ['S', 'M', 'L']\n",
    "for tshirt in ('%8s %3s' % (c,s) for c in colors for s in sizes):\n",
    "    print(tshirt)"
   ]
  },
  {
   "cell_type": "markdown",
   "metadata": {},
   "source": [
    "## 2.3 元组不仅仅是不可变的列表\n",
    "元组还可以用于没有字段名的记录，其中每个元素存放了记录中一个字段的数据，外加这个字段的位置。如果对元组进行排序，这些元素携带的位置信息就丢失了。\n",
    "### 2.3.1 元组和记录"
   ]
  },
  {
   "cell_type": "code",
   "execution_count": 16,
   "metadata": {},
   "outputs": [
    {
     "name": "stdout",
     "output_type": "stream",
     "text": [
      "BRA CE342567\n",
      "ESP XDA205856\n",
      "USA 31195855\n",
      "USA\n",
      "BRA\n",
      "ESP\n"
     ]
    }
   ],
   "source": [
    "# 元组用作记录\n",
    "lax_coordinates = (33.9425, -118.408056)\n",
    "city, year, pop, chg, area = ('Tokyo', 2003, 32450, 0.66, 8014)  # 利用元组拆包\n",
    "traveler_ids = [('USA', '31195855'), ('BRA', 'CE342567'), ('ESP', 'XDA205856')]  # 元组列表\n",
    "for passport in sorted(traveler_ids):\n",
    "    print('%s %s' % passport)\n",
    "\n",
    "for country, _ in traveler_ids:  # for循环分别提取元组里的元素，叫做unpacking拆包\n",
    "    print(country)"
   ]
  },
  {
   "cell_type": "markdown",
   "metadata": {},
   "source": [
    "### 2.3.2 元组拆包\n",
    "拆包让元组可以完美地被当作记录来使用。\n",
    "元组拆包可以用到任何可迭代对象上，可以用`*`处理多余的元素。"
   ]
  },
  {
   "cell_type": "code",
   "execution_count": 18,
   "metadata": {},
   "outputs": [
    {
     "data": {
      "text/plain": [
       "(33.9425, -118.408056)"
      ]
     },
     "execution_count": 18,
     "metadata": {},
     "output_type": "execute_result"
    }
   ],
   "source": [
    "# 平行赋值，把一个可迭代对象中的元素一并赋值到对应的变量组成的元组中。\n",
    "lax_coordinates = (33.9425, -118.408056)\n",
    "latitude, longitude = lax_coordinates\n",
    "latitude, longitude  # 元组"
   ]
  },
  {
   "cell_type": "code",
   "execution_count": 19,
   "metadata": {},
   "outputs": [
    {
     "data": {
      "text/plain": [
       "33.9425"
      ]
     },
     "execution_count": 19,
     "metadata": {},
     "output_type": "execute_result"
    }
   ],
   "source": [
    "latitude"
   ]
  },
  {
   "cell_type": "code",
   "execution_count": 21,
   "metadata": {},
   "outputs": [
    {
     "name": "stdout",
     "output_type": "stream",
     "text": [
      "2 3\n",
      "3 2\n"
     ]
    }
   ],
   "source": [
    "# 不使用中间变量交换两个变量的值\n",
    "a = 2\n",
    "b = 3\n",
    "print(a, b)\n",
    "a, b = b, a\n",
    "print(a, b)"
   ]
  },
  {
   "cell_type": "code",
   "execution_count": 68,
   "metadata": {},
   "outputs": [
    {
     "name": "stdout",
     "output_type": "stream",
     "text": [
      "(2, 4)\n",
      "(2, 4)\n"
     ]
    },
    {
     "data": {
      "text/plain": [
       "(2, 4)"
      ]
     },
     "execution_count": 68,
     "metadata": {},
     "output_type": "execute_result"
    }
   ],
   "source": [
    "# 使用*运算符把一个可迭代对象拆开作为函数的参数\n",
    "print(divmod(20, 8))\n",
    "t = (20, 8)\n",
    "print(divmod(*t))\n",
    "quotient, remainder = divmod(*t)\n",
    "quotient, remainder"
   ]
  },
  {
   "cell_type": "code",
   "execution_count": 22,
   "metadata": {},
   "outputs": [
    {
     "data": {
      "text/plain": [
       "'chapter2.txt'"
      ]
     },
     "execution_count": 22,
     "metadata": {},
     "output_type": "execute_result"
    }
   ],
   "source": [
    "# 让函数以元组的形式返回多个值, _可作为占位符\n",
    "import os\n",
    "_, filename = os.path.split('/home/python/chapter2.txt')\n",
    "filename"
   ]
  },
  {
   "cell_type": "code",
   "execution_count": 75,
   "metadata": {},
   "outputs": [
    {
     "name": "stdout",
     "output_type": "stream",
     "text": [
      "0 1 [2, 3, 4]\n",
      "0 1 2 3 4\n"
     ]
    }
   ],
   "source": [
    "# 用*处理剩下的元素，函数用*args获取不确定数量的参数是一种经典写法\n",
    "a, b, *rest = range(5)\n",
    "print(a, b, rest)\n",
    "print(a, b, *rest)"
   ]
  },
  {
   "cell_type": "code",
   "execution_count": 76,
   "metadata": {},
   "outputs": [
    {
     "data": {
      "text/plain": [
       "(0, 1, [])"
      ]
     },
     "execution_count": 76,
     "metadata": {},
     "output_type": "execute_result"
    }
   ],
   "source": [
    "a, b, *rest = range(2)\n",
    "a, b, rest"
   ]
  },
  {
   "cell_type": "code",
   "execution_count": 23,
   "metadata": {},
   "outputs": [
    {
     "name": "stdout",
     "output_type": "stream",
     "text": [
      "0 [1, 2] 3 4\n",
      "[0, 1] 2 3 4\n"
     ]
    }
   ],
   "source": [
    "# 平行赋值中，*只能出现在一个变量前面，但是该变量可以出现在赋值表达式的任意位置\n",
    "a, *body, c, d = range(5)\n",
    "print(a, body, c, d)\n",
    "\n",
    "*head, b, c, d = range(5)\n",
    "print(head, b, c, d)"
   ]
  },
  {
   "cell_type": "markdown",
   "metadata": {},
   "source": [
    "### 2.3.3 嵌套结构元组拆包"
   ]
  },
  {
   "cell_type": "code",
   "execution_count": 25,
   "metadata": {},
   "outputs": [
    {
     "name": "stdout",
     "output_type": "stream",
     "text": [
      "  Name    |   Math    |  Chinese \n",
      "  Ming    |    135    |    96    \n",
      "  Zhang   |    144    |    125   \n"
     ]
    }
   ],
   "source": [
    "scores = [\n",
    "    ('Ming', 178, (135, 96)),\n",
    "    ('Wu', 167, (45, 99)),\n",
    "    ('Zhang', 175, (144, 125))\n",
    "]\n",
    "\n",
    "print('{:^9} | {:^9} | {:^9}'.format('Name', 'Math', 'Chinese'))\n",
    "fmt = '{:^9} | {:^9} | {:^9}'\n",
    "\n",
    "for name, height, (math, chinese) in scores:\n",
    "    if math >= 120:\n",
    "        print(fmt.format(name, math, chinese))"
   ]
  },
  {
   "cell_type": "markdown",
   "metadata": {},
   "source": [
    "在Python3之后，元组不再可以作为形参放在函数声明中，但是该变动对函数调用没有影响，只影响函数的声明方式。\n",
    "### 2.3.4 具名元组`namedtuple`"
   ]
  },
  {
   "cell_type": "code",
   "execution_count": 26,
   "metadata": {},
   "outputs": [
    {
     "data": {
      "text/plain": [
       "City(name='Tokyo', country='JP', population=36.933, coordinates=(35.689722, 139.691667))"
      ]
     },
     "execution_count": 26,
     "metadata": {},
     "output_type": "execute_result"
    }
   ],
   "source": [
    "# 定义和使用具名元组\n",
    "from collections import namedtuple\n",
    "City = namedtuple('City', 'name country population coordinates')\n",
    "# 第一个参数是类名，第二个是各个字段的名字，可以用数个字符串组成的可迭代对象(['name', 'pop.'])，\n",
    "# 也可以是由空格分隔开的字段名组成的字符串\n",
    "tokyo = City('Tokyo', 'JP', 36.933, (35.689722, 139.691667))\n",
    "tokyo"
   ]
  },
  {
   "cell_type": "code",
   "execution_count": 27,
   "metadata": {},
   "outputs": [
    {
     "name": "stdout",
     "output_type": "stream",
     "text": [
      "Tokyo\n",
      "Tokyo\n"
     ]
    }
   ],
   "source": [
    "print(tokyo.name) # 可以通过字段名\n",
    "print(tokyo[0]) # 可以通过位置获取字段信息"
   ]
  },
  {
   "cell_type": "code",
   "execution_count": 40,
   "metadata": {},
   "outputs": [
    {
     "name": "stdout",
     "output_type": "stream",
     "text": [
      "('name', 'country', 'population', 'coordinates')\n",
      "City(name='Delhi NCR', country='IN', population=21.935, coordinates=LatLong(lat=28.613889, long=77.208889))\n",
      "---------------\n",
      "City(name='Delhi NCR', country='IN', population=21.935, coordinates=LatLong(lat=28.613889, long=77.208889))\n",
      "---------------\n",
      "OrderedDict([('name', 'Delhi NCR'), ('country', 'IN'), ('population', 21.935), ('coordinates', LatLong(lat=28.613889, long=77.208889))])\n",
      "---------------\n",
      "name: Delhi NCR\n",
      "country: IN\n",
      "population: 21.935\n",
      "coordinates: LatLong(lat=28.613889, long=77.208889)\n"
     ]
    }
   ],
   "source": [
    "# 具名元组的属性和方法\n",
    "print(City._fields)\n",
    "\n",
    "LatLong = namedtuple('LatLong', 'lat long')\n",
    "delhi_data = ('Delhi NCR', 'IN', 21.935, LatLong(28.613889, 77.208889))\n",
    "delhi = City(*delhi_data)\n",
    "print(delhi)\n",
    "print('-' * 15)\n",
    "\n",
    "delhi2 = City._make(delhi_data)\n",
    "print(delhi2)\n",
    "print('-' * 15)\n",
    "\n",
    "print(delhi._asdict())\n",
    "print('-' * 15)\n",
    "\n",
    "for key, value in delhi._asdict().items():\n",
    "    print(key+':', value)"
   ]
  },
  {
   "cell_type": "markdown",
   "metadata": {},
   "source": [
    "### 2.3.5 作为不可变列表的元组"
   ]
  },
  {
   "cell_type": "code",
   "execution_count": 52,
   "metadata": {},
   "outputs": [
    {
     "name": "stdout",
     "output_type": "stream",
     "text": [
      "l [1, 2, 3, 4, 5]\n",
      "t (1, 2, 3, 4, 5)\n",
      "列表的浅复制\n",
      "l [1, 2, 3, 4, 5, 6]\n",
      "l_copy [1, 2, 3, 4, 5, 6]\n",
      "l [1, 2, 3, 4, 5, 6]\n",
      "l_copy [1, 2, 3, 4, 5]\n",
      "删除\n",
      "l [1, 2, 3, 4, 5, 6]\n",
      "l [1, 3, 4, 5, 6]\n",
      "把可迭代对象追加给s\n",
      "l [1, 3, 4, 5, 6]\n",
      "l [1, 3, 4, 5, 6, 1, 2, 3, 4, 5]\n",
      "删除全部元素\n",
      "[]\n"
     ]
    }
   ],
   "source": [
    "# 列表独有性质(不全)\n",
    "l = [1,2,3,4,5]\n",
    "t = (1,2,3,4,5)\n",
    "print('l', l)\n",
    "print('t', t)\n",
    "# 在尾部添加新元素\n",
    "l.append(6)\n",
    "\n",
    "# 列表的浅复制，不改变原列表\n",
    "print('列表的浅复制')\n",
    "l_copy = l.copy()\n",
    "print('l', l)\n",
    "print('l_copy', l_copy)\n",
    "l_copy.pop()\n",
    "print('l', l)\n",
    "print('l_copy', l_copy)\n",
    "\n",
    "# 删除指定元素\n",
    "print('删除')\n",
    "print('l', l)\n",
    "l.remove(2)\n",
    "print('l', l)\n",
    "\n",
    "# 把可迭代对象追加给s，可以是元组\n",
    "print('把可迭代对象追加给s')\n",
    "print('l', l)\n",
    "l.extend(t)\n",
    "print('l', l)\n",
    "\n",
    "# 删除全部元素\n",
    "print('删除全部元素')\n",
    "l.clear()\n",
    "print(l)"
   ]
  },
  {
   "cell_type": "markdown",
   "metadata": {},
   "source": [
    "## 2.4 切片\n",
    "### 2.4.1 为什么切片和区间会忽略最后一个元素？\n",
    "这是Python的风格，因为Python下标从0开始。\n",
    "* 当只有最后一个位置信息时，切片和区间操作比如`range(3)`和`my_list[:3]`都很容易看出是返回三个元素。\n",
    "* 当起止位置信息都存在时，`stop-start`即为区间长度。\n",
    "* 方便利用任意一个下标把序列分成互不重叠的两部分，`my_list[:x]`和`my_list[x:]`。\n",
    "\n",
    "### 2.4.2 对对象进行切片\n",
    "`seq[start: stop: step]`"
   ]
  },
  {
   "cell_type": "code",
   "execution_count": 1,
   "metadata": {},
   "outputs": [
    {
     "name": "stdout",
     "output_type": "stream",
     "text": [
      "bye\n",
      "elcycib\n",
      "eccb\n"
     ]
    }
   ],
   "source": [
    "s = 'bicycle'\n",
    "print(s[::3])\n",
    "print(s[::-1])\n",
    "print(s[::-2])"
   ]
  },
  {
   "cell_type": "markdown",
   "metadata": {},
   "source": [
    "`a:b:c`只能作为索引或者下标用在`[]`中返回一个切片对象：`slice(a, b, c)`，可以对切片对象命名。Python调用`seq._getitem_(slice(start, stop, step))`来实现切片。"
   ]
  },
  {
   "cell_type": "code",
   "execution_count": 4,
   "metadata": {},
   "outputs": [
    {
     "data": {
      "text/plain": [
       "'32'"
      ]
     },
     "execution_count": 4,
     "metadata": {},
     "output_type": "execute_result"
    }
   ],
   "source": [
    "s = 'lizzie female 32 174'\n",
    "age = slice(14,16)\n",
    "s[age]"
   ]
  },
  {
   "cell_type": "markdown",
   "metadata": {},
   "source": [
    "### 2.4.3 多维切片和省略\n",
    "多维切片是指`[ ]`中可以使用以逗号分隔的多个索引或切片。省略（ellipsis）写作三个英文句号(`...`)，其实是Ellipsis对象的别名。\n",
    "\n",
    "目前未发现Python标准库中支持多维切片和省略的用法。\n",
    "\n",
    "Python中，ellipsis是类名，其单一内置实例为Ellipsis，这与bool是类名，而其实例写作True和False异曲同工。省略号用作切片的例子如下："
   ]
  },
  {
   "cell_type": "code",
   "execution_count": 58,
   "metadata": {},
   "outputs": [
    {
     "data": {
      "text/plain": [
       "(2, 2, 3, 4)"
      ]
     },
     "execution_count": 58,
     "metadata": {},
     "output_type": "execute_result"
    }
   ],
   "source": [
    "import numpy as np\n",
    "a = np.random.randn(2,2,3,4)\n",
    "a.shape"
   ]
  },
  {
   "cell_type": "code",
   "execution_count": 61,
   "metadata": {},
   "outputs": [
    {
     "data": {
      "text/plain": [
       "array([[[ 0.37486111, -0.80494427, -0.20877587, -1.70167656],\n",
       "        [ 0.17901368, -0.96149152, -1.34950165,  0.9774249 ],\n",
       "        [-1.22450299, -1.02662982, -2.82191464, -0.74420068]],\n",
       "\n",
       "       [[-0.53078932, -1.63852389,  0.11978463, -0.84412687],\n",
       "        [ 0.48842801, -2.05256378, -0.35667538, -0.22233836],\n",
       "        [ 1.68164775,  0.88406755,  0.57633445,  0.58867458]]])"
      ]
     },
     "execution_count": 61,
     "metadata": {},
     "output_type": "execute_result"
    }
   ],
   "source": [
    "a[1,...]"
   ]
  },
  {
   "cell_type": "code",
   "execution_count": 62,
   "metadata": {},
   "outputs": [
    {
     "data": {
      "text/plain": [
       "array([[[ 0.37486111, -0.80494427, -0.20877587, -1.70167656],\n",
       "        [ 0.17901368, -0.96149152, -1.34950165,  0.9774249 ],\n",
       "        [-1.22450299, -1.02662982, -2.82191464, -0.74420068]],\n",
       "\n",
       "       [[-0.53078932, -1.63852389,  0.11978463, -0.84412687],\n",
       "        [ 0.48842801, -2.05256378, -0.35667538, -0.22233836],\n",
       "        [ 1.68164775,  0.88406755,  0.57633445,  0.58867458]]])"
      ]
     },
     "execution_count": 62,
     "metadata": {},
     "output_type": "execute_result"
    }
   ],
   "source": [
    "a[1, :, :, :]"
   ]
  },
  {
   "cell_type": "markdown",
   "metadata": {},
   "source": [
    "### 2.4.4 给切片赋值\n",
    "如果把切片放在赋值语句的左边，或者把它作为`del`操作的对象，我们就可以对序列进行嫁接、切除或就地修改操作。"
   ]
  },
  {
   "cell_type": "code",
   "execution_count": 72,
   "metadata": {},
   "outputs": [
    {
     "data": {
      "text/plain": [
       "[0, 1, 2, 3, 4, 5, 6, 7, 8, 9]"
      ]
     },
     "execution_count": 72,
     "metadata": {},
     "output_type": "execute_result"
    }
   ],
   "source": [
    "l = list(range(10))\n",
    "l"
   ]
  },
  {
   "cell_type": "code",
   "execution_count": 73,
   "metadata": {},
   "outputs": [
    {
     "data": {
      "text/plain": [
       "[0, 1, 20, 30, 5, 6, 7, 8, 9]"
      ]
     },
     "execution_count": 73,
     "metadata": {},
     "output_type": "execute_result"
    }
   ],
   "source": [
    "l[2:5] = [20, 30]\n",
    "l"
   ]
  },
  {
   "cell_type": "code",
   "execution_count": 74,
   "metadata": {},
   "outputs": [
    {
     "data": {
      "text/plain": [
       "[0, 1, 6, 7, 8, 9]"
      ]
     },
     "execution_count": 74,
     "metadata": {},
     "output_type": "execute_result"
    }
   ],
   "source": [
    "# 切除\n",
    "del l[2: 5]\n",
    "l"
   ]
  },
  {
   "cell_type": "code",
   "execution_count": 75,
   "metadata": {},
   "outputs": [
    {
     "data": {
      "text/plain": [
       "[0, 1, 20, 7, 20, 9]"
      ]
     },
     "execution_count": 75,
     "metadata": {},
     "output_type": "execute_result"
    }
   ],
   "source": [
    "# 就地修改\n",
    "l[2::2] = [20,20]\n",
    "l"
   ]
  },
  {
   "cell_type": "code",
   "execution_count": 76,
   "metadata": {},
   "outputs": [
    {
     "ename": "TypeError",
     "evalue": "can only assign an iterable",
     "output_type": "error",
     "traceback": [
      "\u001b[0;31m-------------------------------------------------------------\u001b[0m",
      "\u001b[0;31mTypeError\u001b[0m                   Traceback (most recent call last)",
      "\u001b[0;32m<ipython-input-76-3375320d72f7>\u001b[0m in \u001b[0;36m<module>\u001b[0;34m\u001b[0m\n\u001b[1;32m      1\u001b[0m \u001b[0;31m# 如果赋值对象是一个切片，赋值语句右侧必须是可迭代对象，即使是单个值也要转换成可迭代的对象。\u001b[0m\u001b[0;34m\u001b[0m\u001b[0;34m\u001b[0m\u001b[0;34m\u001b[0m\u001b[0m\n\u001b[0;32m----> 2\u001b[0;31m \u001b[0ml\u001b[0m\u001b[0;34m[\u001b[0m\u001b[0;36m2\u001b[0m\u001b[0;34m:\u001b[0m\u001b[0;36m3\u001b[0m\u001b[0;34m]\u001b[0m \u001b[0;34m=\u001b[0m \u001b[0;36m100\u001b[0m\u001b[0;34m\u001b[0m\u001b[0;34m\u001b[0m\u001b[0m\n\u001b[0m",
      "\u001b[0;31mTypeError\u001b[0m: can only assign an iterable"
     ]
    }
   ],
   "source": [
    "# 如果赋值对象是一个切片，赋值语句右侧必须是可迭代对象，即使是单个值也要转换成可迭代的对象。\n",
    "l[2:3] = 100"
   ]
  },
  {
   "cell_type": "code",
   "execution_count": 77,
   "metadata": {},
   "outputs": [
    {
     "data": {
      "text/plain": [
       "[0, 1, 100, 7, 20, 9]"
      ]
     },
     "execution_count": 77,
     "metadata": {},
     "output_type": "execute_result"
    }
   ],
   "source": [
    "l[2:3] = [100]\n",
    "l"
   ]
  },
  {
   "cell_type": "markdown",
   "metadata": {},
   "source": [
    "## 2.5 对序列使用`+`和`*`\n",
    "`+`两侧的序列由同类型数据所构成，两种操作符都是生成新对象，而不改变原有对象。"
   ]
  },
  {
   "cell_type": "code",
   "execution_count": 43,
   "metadata": {},
   "outputs": [
    {
     "data": {
      "text/plain": [
       "[1, 2, 3, 1, 2, 3, 1, 2, 3, 1, 2, 3, 1, 2, 3]"
      ]
     },
     "execution_count": 43,
     "metadata": {},
     "output_type": "execute_result"
    }
   ],
   "source": [
    "l = [1,2,3]\n",
    "5*l"
   ]
  },
  {
   "cell_type": "code",
   "execution_count": 44,
   "metadata": {
    "scrolled": true
   },
   "outputs": [
    {
     "data": {
      "text/plain": [
       "'abcabcabcabcabc'"
      ]
     },
     "execution_count": 44,
     "metadata": {},
     "output_type": "execute_result"
    }
   ],
   "source": [
    "5*'abc'"
   ]
  },
  {
   "cell_type": "markdown",
   "metadata": {},
   "source": [
    "如果在`a*n`语句中，序列`a`中的元素是***其他可变对象的引用***的话，比如下例，我们以为会初始化一个由列表组成的列表，但其实该列表中的三个元素是指向同一个列表的三个引用。\n",
    "\n",
    "正确：应该用列表推导式来建立。"
   ]
  },
  {
   "cell_type": "code",
   "execution_count": 84,
   "metadata": {},
   "outputs": [
    {
     "data": {
      "text/plain": [
       "[['_', '_', '_'], ['_', '_', '_'], ['_', '_', '_']]"
      ]
     },
     "execution_count": 84,
     "metadata": {},
     "output_type": "execute_result"
    }
   ],
   "source": [
    "board = [['_']*3 for i in range(3)]\n",
    "board"
   ]
  },
  {
   "cell_type": "code",
   "execution_count": 50,
   "metadata": {},
   "outputs": [
    {
     "data": {
      "text/plain": [
       "[['_', '_', '_'], ['_', '_', 'X'], ['_', '_', '_']]"
      ]
     },
     "execution_count": 50,
     "metadata": {},
     "output_type": "execute_result"
    }
   ],
   "source": [
    "board[1][2] = 'X'\n",
    "board"
   ]
  },
  {
   "cell_type": "markdown",
   "metadata": {},
   "source": [
    "含有3个指向同一对象的引用的列表是毫无用处的。"
   ]
  },
  {
   "cell_type": "code",
   "execution_count": 52,
   "metadata": {},
   "outputs": [
    {
     "data": {
      "text/plain": [
       "[['_', '_', '_'], ['_', '_', '_'], ['_', '_', '_']]"
      ]
     },
     "execution_count": 52,
     "metadata": {},
     "output_type": "execute_result"
    }
   ],
   "source": [
    "weird_board = [['_']*3] * 3\n",
    "weird_board"
   ]
  },
  {
   "cell_type": "code",
   "execution_count": 53,
   "metadata": {},
   "outputs": [
    {
     "data": {
      "text/plain": [
       "[['_', '_', 'X'], ['_', '_', 'X'], ['_', '_', 'X']]"
      ]
     },
     "execution_count": 53,
     "metadata": {},
     "output_type": "execute_result"
    }
   ],
   "source": [
    "weird_board[1][2] = 'X'\n",
    "weird_board"
   ]
  },
  {
   "cell_type": "code",
   "execution_count": 80,
   "metadata": {},
   "outputs": [
    {
     "name": "stdout",
     "output_type": "stream",
     "text": [
      "[['_', '_', '_'], ['_', '_', '_'], ['_', '_', '_']]\n",
      "[['_', '_', 'X'], ['_', '_', 'X'], ['_', '_', 'X']]\n",
      "====================\n",
      "[['_', '_', '_'], ['_', '_', '_'], ['_', '_', '_']]\n",
      "[['_', '_', '_'], ['_', '_', 'X'], ['_', '_', '_']]\n"
     ]
    }
   ],
   "source": [
    "# 另一种等同的错误写法\n",
    "row = ['_']*3\n",
    "board = []\n",
    "for i in range(3):\n",
    "    board.append(row)\n",
    "print(board)\n",
    "board[1][2] = 'X'\n",
    "print(board)\n",
    "print('=' * 20)\n",
    "\n",
    "# 另一种等同的正确写法\n",
    "board = []\n",
    "for i in range(3):\n",
    "    row = ['_']*3\n",
    "    board.append(row)\n",
    "print(board)\n",
    "board[1][2] = 'X'\n",
    "print(board)"
   ]
  },
  {
   "cell_type": "markdown",
   "metadata": {},
   "source": [
    "## 2.6 序列的增量赋值\n",
    "`+=`背后的特殊方法是`__iadd__`。对于可变序列，`a+=b`使`a`就地改变，与`a.extend(b)`效果相同。\n",
    "\n",
    "但是如果一个类没有实现该方法，Python会调用`__add__`，`a+=b`等于`a=a+b`，即得到一个新对象赋值给`a`。\n",
    "\n",
    "总体上，可变序列一般都实现了`__iadd__`方法，因此`+=`是就地加法，而不可变序列根本不支持这个操作，对这个方法的实现也就无从说起。\n",
    "\n",
    "`*=`背后的特殊方法是`__imul__`。"
   ]
  },
  {
   "cell_type": "code",
   "execution_count": 85,
   "metadata": {},
   "outputs": [
    {
     "name": "stdout",
     "output_type": "stream",
     "text": [
      "True\n",
      "False\n"
     ]
    }
   ],
   "source": [
    "l = [1, 2, 3]\n",
    "l_id = id(l)\n",
    "l *= 3\n",
    "print(l_id == id(l))\n",
    "\n",
    "t = (1, 2, 3)\n",
    "t_id = id(t)\n",
    "t *= 3\n",
    "print(t_id == id(t))"
   ]
  },
  {
   "cell_type": "markdown",
   "metadata": {},
   "source": [
    "对不可变序列进行重复拼接操作，效率很低，因为每次都有一个新对象，解释器需要把原来对象中的元素复制到新对象，再追加新的元素。但`str`是个特例，因为字符串的`+=`操作太频繁了，所以CPython进行了优化，为`str`初始化内存时会预留额外的空间。"
   ]
  },
  {
   "cell_type": "code",
   "execution_count": 88,
   "metadata": {},
   "outputs": [
    {
     "ename": "TypeError",
     "evalue": "'tuple' object does not support item assignment",
     "output_type": "error",
     "traceback": [
      "\u001b[0;31m-------------------------------------------------------------\u001b[0m",
      "\u001b[0;31mTypeError\u001b[0m                   Traceback (most recent call last)",
      "\u001b[0;32m<ipython-input-88-a64d8e93db1c>\u001b[0m in \u001b[0;36m<module>\u001b[0;34m\u001b[0m\n\u001b[1;32m      1\u001b[0m \u001b[0;31m# t[2]被改动了，但是tuple不支持修改，所以会抛出异常。\u001b[0m\u001b[0;34m\u001b[0m\u001b[0;34m\u001b[0m\u001b[0;34m\u001b[0m\u001b[0m\n\u001b[1;32m      2\u001b[0m \u001b[0mt\u001b[0m \u001b[0;34m=\u001b[0m \u001b[0;34m(\u001b[0m\u001b[0;36m1\u001b[0m\u001b[0;34m,\u001b[0m \u001b[0;36m2\u001b[0m\u001b[0;34m,\u001b[0m \u001b[0;34m[\u001b[0m\u001b[0;36m20\u001b[0m\u001b[0;34m,\u001b[0m\u001b[0;36m30\u001b[0m\u001b[0;34m]\u001b[0m\u001b[0;34m)\u001b[0m\u001b[0;34m\u001b[0m\u001b[0;34m\u001b[0m\u001b[0m\n\u001b[0;32m----> 3\u001b[0;31m \u001b[0mt\u001b[0m\u001b[0;34m[\u001b[0m\u001b[0;36m2\u001b[0m\u001b[0;34m]\u001b[0m \u001b[0;34m+=\u001b[0m \u001b[0;34m[\u001b[0m\u001b[0;36m40\u001b[0m\u001b[0;34m,\u001b[0m \u001b[0;36m50\u001b[0m\u001b[0;34m]\u001b[0m\u001b[0;34m\u001b[0m\u001b[0;34m\u001b[0m\u001b[0m\n\u001b[0m",
      "\u001b[0;31mTypeError\u001b[0m: 'tuple' object does not support item assignment"
     ]
    }
   ],
   "source": [
    "# t[2]被改动了，但是tuple不支持修改，所以会抛出异常。\n",
    "t = (1, 2, [20,30])\n",
    "t[2] += [40, 50]"
   ]
  },
  {
   "cell_type": "code",
   "execution_count": 89,
   "metadata": {},
   "outputs": [
    {
     "data": {
      "text/plain": [
       "(1, 2, [20, 30, 40, 50])"
      ]
     },
     "execution_count": 89,
     "metadata": {},
     "output_type": "execute_result"
    }
   ],
   "source": [
    "t"
   ]
  },
  {
   "cell_type": "code",
   "execution_count": 60,
   "metadata": {},
   "outputs": [
    {
     "data": {
      "text/plain": [
       "(1, 2, [20, 30, 40, 50, 60])"
      ]
     },
     "execution_count": 60,
     "metadata": {},
     "output_type": "execute_result"
    }
   ],
   "source": [
    "t = (1, 2, [20,30])\n",
    "t[2].extend([40, 50, 60]) # 不会报错\n",
    "t"
   ]
  },
  {
   "cell_type": "code",
   "execution_count": 63,
   "metadata": {},
   "outputs": [
    {
     "name": "stdout",
     "output_type": "stream",
     "text": [
      "  1           0 LOAD_NAME                0 (s)\n",
      "              2 LOAD_NAME                1 (a)\n",
      "              4 DUP_TOP_TWO\n",
      "              6 BINARY_SUBSCR\n",
      "              8 LOAD_NAME                2 (b)\n",
      "             10 INPLACE_ADD\n",
      "             12 ROT_THREE\n",
      "             14 STORE_SUBSCR\n",
      "             16 LOAD_CONST               0 (None)\n",
      "             18 RETURN_VALUE\n"
     ]
    }
   ],
   "source": [
    "# 查看字节码\n",
    "import dis\n",
    "dis.dis('s[a]+=b')"
   ]
  },
  {
   "cell_type": "markdown",
   "metadata": {},
   "source": [
    "* 6 将`s[a]`的值存入TOS（Top of Stack，栈的顶端）。\n",
    "* 10 计算`TOS += b`，因为TOS指向的是可变对象，所以该操作可以完成。\n",
    "* 14 `s[a] = TOS赋值`失败，因为s是不可变序列。\\\n",
    "\\\n",
    "3个教训：\n",
    "* 不要把可变对象放在元组中。\n",
    "* 增量赋值不是原子操作。\n",
    "* 学会查看Python字节码。"
   ]
  },
  {
   "cell_type": "markdown",
   "metadata": {},
   "source": [
    "## 2.7 `list.sort`方法和内置函数`sorted`\n",
    "`list.sort`方法是就地排序，返回为`None`，提示没有产生新对象。(所以该类方法无法串联使用，而返回新对象的方法可以串联调用，形成连贯接口(fluent interface))。\\\n",
    "`sorted`方法会新建一个***列表***作为返回值，接受任何可迭代对象作为参数，包括不可变序列和生成器。\\\n",
    "这两种方法都有两个关键字参数：\n",
    "* `reverse`, 默认为`False`，若为`True`，则降序输出。\n",
    "* `key`, 一个函数，该函数会作用在序列的每一个元素上，所产生的结果是排序算法依赖的对比关键字，比如`key = str.lower`忽略大小写排序，`key = len`基于字符串长度排序，默认为`identity function`，即按照元素自己的值排序。（`key`还可以用于`min()`，`max()`，`itertools.groupby()`和`heapq.nlargest()`。)"
   ]
  },
  {
   "cell_type": "code",
   "execution_count": 99,
   "metadata": {},
   "outputs": [
    {
     "data": {
      "text/plain": [
       "['g', 'i', 'n', 'r', 's', 't']"
      ]
     },
     "execution_count": 99,
     "metadata": {},
     "output_type": "execute_result"
    }
   ],
   "source": [
    "# sorted方法接受任何可迭代对象作为参数，包括不可变序列和生成器，最终返回一个列表。\n",
    "a = 'string'\n",
    "sorted(a)"
   ]
  },
  {
   "cell_type": "code",
   "execution_count": 100,
   "metadata": {},
   "outputs": [
    {
     "data": {
      "text/plain": [
       "['apple', 'banana', 'grape', 'raspberry']"
      ]
     },
     "execution_count": 100,
     "metadata": {},
     "output_type": "execute_result"
    }
   ],
   "source": [
    "fruits = ['grape', 'raspberry', 'apple', 'banana']\n",
    "sorted(fruits)"
   ]
  },
  {
   "cell_type": "code",
   "execution_count": 101,
   "metadata": {},
   "outputs": [
    {
     "data": {
      "text/plain": [
       "['grape', 'raspberry', 'apple', 'banana']"
      ]
     },
     "execution_count": 101,
     "metadata": {},
     "output_type": "execute_result"
    }
   ],
   "source": [
    "fruits"
   ]
  },
  {
   "cell_type": "code",
   "execution_count": 102,
   "metadata": {},
   "outputs": [
    {
     "data": {
      "text/plain": [
       "['raspberry', 'grape', 'banana', 'apple']"
      ]
     },
     "execution_count": 102,
     "metadata": {},
     "output_type": "execute_result"
    }
   ],
   "source": [
    "sorted(fruits, reverse=True)"
   ]
  },
  {
   "cell_type": "code",
   "execution_count": 103,
   "metadata": {},
   "outputs": [
    {
     "data": {
      "text/plain": [
       "['grape', 'apple', 'banana', 'raspberry']"
      ]
     },
     "execution_count": 103,
     "metadata": {},
     "output_type": "execute_result"
    }
   ],
   "source": [
    "sorted(fruits, key=len)\n",
    "# 因为用到的排序算法Timsort是稳定的，也就是当比不出大小时，两个元素的相对位置不会变化。"
   ]
  },
  {
   "cell_type": "code",
   "execution_count": 104,
   "metadata": {},
   "outputs": [
    {
     "data": {
      "text/plain": [
       "['raspberry', 'banana', 'grape', 'apple']"
      ]
     },
     "execution_count": 104,
     "metadata": {},
     "output_type": "execute_result"
    }
   ],
   "source": [
    "sorted(fruits, key=len, reverse=True)"
   ]
  },
  {
   "cell_type": "code",
   "execution_count": 105,
   "metadata": {},
   "outputs": [
    {
     "data": {
      "text/plain": [
       "['grape', 'raspberry', 'apple', 'banana']"
      ]
     },
     "execution_count": 105,
     "metadata": {},
     "output_type": "execute_result"
    }
   ],
   "source": [
    "fruits"
   ]
  },
  {
   "cell_type": "code",
   "execution_count": 106,
   "metadata": {},
   "outputs": [
    {
     "data": {
      "text/plain": [
       "['apple', 'banana', 'grape', 'raspberry']"
      ]
     },
     "execution_count": 106,
     "metadata": {},
     "output_type": "execute_result"
    }
   ],
   "source": [
    "fruits.sort()\n",
    "fruits"
   ]
  },
  {
   "cell_type": "markdown",
   "metadata": {},
   "source": [
    "## 2.8 用`bisect`来管理已排序的序列\n",
    "`bisect`模块包含两个主函数，`bisect`和`insort`，两个函数都利用二分查找算法在有序序列中查找或插入元素。\n",
    "### 2.8.1 用`bisect`来搜索\n",
    "`bisect(haystack, needle)`在haystack（干草垛）中查找needle（针）的位置，其中`haystack`必须是有序的序列。要求是在该位置插入`needle`后原序列还能保持升序。"
   ]
  },
  {
   "cell_type": "code",
   "execution_count": 112,
   "metadata": {},
   "outputs": [],
   "source": [
    "import bisect\n",
    "import sys"
   ]
  },
  {
   "cell_type": "code",
   "execution_count": 137,
   "metadata": {},
   "outputs": [
    {
     "name": "stdout",
     "output_type": "stream",
     "text": [
      "DEMO:  bisect_right\n",
      "haystack ->  1  4  5  6  8 12 15 20 21 23 23 26 29 30\n",
      "31 @ 14      |  |  |  |  |  |  |  |  |  |  |  |  |  |31\n",
      "30 @ 14      |  |  |  |  |  |  |  |  |  |  |  |  |  |30\n",
      "29 @ 13      |  |  |  |  |  |  |  |  |  |  |  |  |29\n",
      "23 @ 11      |  |  |  |  |  |  |  |  |  |  |23\n",
      "22 @  9      |  |  |  |  |  |  |  |  |22\n",
      "10 @  5      |  |  |  |  |10\n",
      " 8 @  5      |  |  |  |  |8 \n",
      " 5 @  3      |  |  |5 \n",
      " 2 @  1      |2 \n",
      " 1 @  1      |1 \n",
      " 0 @  0    0 \n"
     ]
    }
   ],
   "source": [
    "HAYSTACK = [1,4,5,6,8,12,15,20,21,23,23,26,29,30]\n",
    "NEEDLES = [0,1,2,5,8,10,22,23,29,30,31]\n",
    "\n",
    "def demo(haystack, needles, mode='right'):\n",
    "    if mode == 'right':\n",
    "        bisect_fn = bisect.bisect\n",
    "    else:\n",
    "        bisect_fn = bisect.bisect_left\n",
    "\n",
    "    RAW_FMT = '{0:2d} @ {1:2d}    {2}{0:<2d}'\n",
    "    print('DEMO: ', bisect_fn.__name__)  \n",
    "    print('haystack ->', ' '.join('%2d' % n for n in haystack))\n",
    "    \n",
    "    for needle in reversed(needles):\n",
    "        position = bisect_fn(haystack, needle)\n",
    "        offset = '  |' * position\n",
    "        print(RAW_FMT.format(needle, position, offset))\n",
    "        \n",
    "demo(HAYSTACK, NEEDLES)"
   ]
  },
  {
   "cell_type": "markdown",
   "metadata": {},
   "source": [
    "`bisect`有两个可选参数`lo`和`hi`，其默认值分别为0和序列的长度，如此可以缩小搜寻的范围。\n",
    "\n",
    "`bisect_left`插入位置是与它相等的元素的位置，即放置新元素于它相等的元素的前面，`bisect_right`则相反。\n",
    "\n",
    "`bisect`可以在很长的序列中作为`index`的替代。"
   ]
  },
  {
   "cell_type": "code",
   "execution_count": 139,
   "metadata": {},
   "outputs": [
    {
     "data": {
      "text/plain": [
       "['F', 'D', 'C', 'B', 'A']"
      ]
     },
     "execution_count": 139,
     "metadata": {},
     "output_type": "execute_result"
    }
   ],
   "source": [
    "# 另一个例子，根据分数查找对应的成绩\n",
    "import bisect\n",
    "def grade(score, breakpoints=[60, 70, 80, 90], grades='FDCBA'):\n",
    "    i = bisect.bisect(breakpoints, score)\n",
    "    return grades[i]\n",
    "\n",
    "[grade(score) for score in [44, 65, 76, 82, 99]]"
   ]
  },
  {
   "cell_type": "markdown",
   "metadata": {},
   "source": [
    "### 2.8.2 用`bisect.insort`插入新元素"
   ]
  },
  {
   "cell_type": "markdown",
   "metadata": {},
   "source": [
    "因为排序很耗时，所以得到一个有序序列后，我们最好保持其有序性。`insort(seq, item)`把变量`item`插入`seq`中，仍保持其有序性。同`bisect`一样有`lo`和`hi`两个参数，且有变体`insort_left`。"
   ]
  },
  {
   "cell_type": "code",
   "execution_count": 142,
   "metadata": {},
   "outputs": [
    {
     "name": "stdout",
     "output_type": "stream",
     "text": [
      "20 -> [20]\n",
      " 1 -> [1, 20]\n",
      "13 -> [1, 13, 20]\n",
      "16 -> [1, 13, 16, 20]\n",
      "14 -> [1, 13, 14, 16, 20]\n",
      " 5 -> [1, 5, 13, 14, 16, 20]\n",
      " 1 -> [1, 1, 5, 13, 14, 16, 20]\n"
     ]
    }
   ],
   "source": [
    "import bisect\n",
    "import random\n",
    "\n",
    "SIZE = 7\n",
    "random.seed(1729)\n",
    "my_list = []\n",
    "for i in range(SIZE):\n",
    "    new_item = random.randrange(SIZE*3)\n",
    "    bisect.insort(my_list, new_item)\n",
    "    print('%2d -> %s' % (new_item, my_list))"
   ]
  },
  {
   "cell_type": "markdown",
   "metadata": {},
   "source": [
    "以上提到的内容不只适用于列表和元组，几乎其他序列类型都支持。因为列表太好用了，Python程序员有时会过度使用。如果只需要处理数字列表的话，数组可能是更好的选择。\n",
    "## 2.9 当列表不是首选时\n",
    "存放1000万个浮点数 -> 数组（数组背后存放的不是float对象，而是数字的机器翻译，也就是字节表述）\\\n",
    "频繁进行先进先出操作 -> 双端队列deque\\\n",
    "频繁执行包含操作 -> 集合set\n",
    "### 2.9.1 数组\n",
    "数组支持所有可变序列有关的操作，比如`.pop`,`.insert`, `.extend`，数组还提供了从文件中读取和存入文件更快的方法`.frombytes`和`.tofile`。\n",
    "\n",
    "创建数组需要指定一个类型码，用来表示底层的C语言应该存放怎样的数据类型。比如`b`类型码表示signed char，只能存放一个字节大小的整数，范围从-128到127，不允许存放其他类型的数据。`d`表示双精度浮点数组。\n",
    "\n",
    "> 位（bit，Binary Digits）：存放一位二进制数，即0或1，为最小的存储单位，8个二进制位为一个字节（Byte）单位。 一个英文字母（不分大小写）占一个字节的空间，一个中文汉字占两个字节的空间。"
   ]
  },
  {
   "cell_type": "code",
   "execution_count": 143,
   "metadata": {},
   "outputs": [
    {
     "name": "stdout",
     "output_type": "stream",
     "text": [
      "0.3130130227008445\n",
      "True\n"
     ]
    }
   ],
   "source": [
    "# 一个浮点型数组的创建、存入文件和从文件读取的过程\n",
    "from array import array\n",
    "from random import random\n",
    "\n",
    "floats = array('d', (random() for i in range(10**7)))\n",
    "print(floats[-1])\n",
    "\n",
    "fp = open('floats.bin', 'wb')  # 'w' must for str\n",
    "floats.tofile(fp)\n",
    "fp.close()\n",
    "\n",
    "floats2 = array('d')\n",
    "fp = open('floats.bin', 'rb')\n",
    "floats2.fromfile(fp, 10**7)\n",
    "fp.close()\n",
    "\n",
    "print(floats==floats2)"
   ]
  },
  {
   "cell_type": "markdown",
   "metadata": {},
   "source": [
    "从一个二进制文件中用`fromfile`读取浮点数比从文本文件中快得多，因为后者会使用内置的`float`函数把文字转换成浮点数。`tofile`也更快，而且占内存更小。\\\n",
    "`pickle.dump`处理浮点数组的速度几乎跟`array.tofile`一样快。不过前者可以处理几乎所有的内置数字类型，包含复数、嵌套集合，甚至用户自定义的类。\\\n",
    "注意以下用法：`s.frombytes(b)`，`s.fromfile(f, n)`，`s.fromlist(l)`；`s.tobytes(b)`，`s.tofile(f)`，`s.tolist(l)`。\\\n",
    "\\\n",
    "从Python3.4开始，数组不再支持`list.sort`这种就地排序，而是得新建一个数组。"
   ]
  },
  {
   "cell_type": "code",
   "execution_count": 145,
   "metadata": {},
   "outputs": [
    {
     "data": {
      "text/plain": [
       "array('d', [0.24105285838870494, 0.47832132659053117, 0.524065946394579, 0.5243459839714878, 0.571520501789329, 0.7138849263281074, 0.745821991603132, 0.9250908614877116, 0.9340647338001065, 0.9976732077346038])"
      ]
     },
     "execution_count": 145,
     "metadata": {},
     "output_type": "execute_result"
    }
   ],
   "source": [
    "a = array('d', (random() for i in range(10)))\n",
    "a = array(a.typecode, sorted(a)) # 因为sorted返回的是列表\n",
    "a"
   ]
  },
  {
   "cell_type": "markdown",
   "metadata": {},
   "source": [
    "### 2.9.2 内存视图`memoryview`\n",
    "`memoryview`让用户在不复制内容的情况下操作同一个数组的不同切片。`memoryview.cast`用不同的方式读写同一块内存数据，而且内容字节不会随意移动，即把同一块内存里的内容打包成一个全新`memoryview`对象给你。"
   ]
  },
  {
   "cell_type": "code",
   "execution_count": 146,
   "metadata": {},
   "outputs": [
    {
     "name": "stdout",
     "output_type": "stream",
     "text": [
      "5\n",
      "-2\n"
     ]
    }
   ],
   "source": [
    "# 通过改变数组中的一个字节来更新数组中某个元素的值\n",
    "numbers = array('h', [-2, -1, 0, 1, 2])  # 16位二进制\n",
    "memv = memoryview(numbers)\n",
    "print(len(memv))\n",
    "print(memv[0])"
   ]
  },
  {
   "cell_type": "code",
   "execution_count": 20,
   "metadata": {},
   "outputs": [
    {
     "data": {
      "text/plain": [
       "[254, 255, 255, 255, 0, 0, 1, 0, 2, 0]"
      ]
     },
     "execution_count": 20,
     "metadata": {},
     "output_type": "execute_result"
    }
   ],
   "source": [
    "memv_oct = memv.cast('B') # 转成无符号字符\n",
    "memv_oct.tolist()"
   ]
  },
  {
   "cell_type": "code",
   "execution_count": 21,
   "metadata": {},
   "outputs": [
    {
     "data": {
      "text/plain": [
       "array('h', [-2, -1, 1024, 1, 2])"
      ]
     },
     "execution_count": 21,
     "metadata": {},
     "output_type": "execute_result"
    }
   ],
   "source": [
    "memv_oct[5] = 4\n",
    "numbers\n",
    "# 因为我们把占两个字节的整数的高位字节改成了4,所以这个有符号整数的值就变成了1024，why？？？"
   ]
  },
  {
   "cell_type": "markdown",
   "metadata": {},
   "source": [
    "### 2.9.3 Numpy和Scipy\n",
    "提供高阶数组和矩阵操作。Numpy实现了多维同质数组(homogeneous array)和矩阵；Scipy是基于Numpy的专为线性代数、数值积分和统计学而设计。Scipy把基于C和Fortran的工业级数学计算功能用交互式且高度抽象的Python包装起来，让科学家如鱼得水。"
   ]
  },
  {
   "cell_type": "code",
   "execution_count": 21,
   "metadata": {},
   "outputs": [
    {
     "data": {
      "text/plain": [
       "array([ 0,  1,  2,  3,  4,  5,  6,  7,  8,  9, 10, 11])"
      ]
     },
     "execution_count": 21,
     "metadata": {},
     "output_type": "execute_result"
    }
   ],
   "source": [
    "import numpy as np\n",
    "a = np.arange(12)\n",
    "a"
   ]
  },
  {
   "cell_type": "code",
   "execution_count": 147,
   "metadata": {},
   "outputs": [
    {
     "data": {
      "text/plain": [
       "array.array"
      ]
     },
     "execution_count": 147,
     "metadata": {},
     "output_type": "execute_result"
    }
   ],
   "source": [
    "type(a)"
   ]
  },
  {
   "cell_type": "code",
   "execution_count": 23,
   "metadata": {},
   "outputs": [
    {
     "data": {
      "text/plain": [
       "(12,)"
      ]
     },
     "execution_count": 23,
     "metadata": {},
     "output_type": "execute_result"
    }
   ],
   "source": [
    "a.shape"
   ]
  },
  {
   "cell_type": "code",
   "execution_count": 24,
   "metadata": {},
   "outputs": [
    {
     "data": {
      "text/plain": [
       "array([[ 0,  1,  2,  3],\n",
       "       [ 4,  5,  6,  7],\n",
       "       [ 8,  9, 10, 11]])"
      ]
     },
     "execution_count": 24,
     "metadata": {},
     "output_type": "execute_result"
    }
   ],
   "source": [
    "a.shape = 3,4\n",
    "a"
   ]
  },
  {
   "cell_type": "code",
   "execution_count": 25,
   "metadata": {},
   "outputs": [
    {
     "data": {
      "text/plain": [
       "array([ 8,  9, 10, 11])"
      ]
     },
     "execution_count": 25,
     "metadata": {},
     "output_type": "execute_result"
    }
   ],
   "source": [
    "a[2]"
   ]
  },
  {
   "cell_type": "code",
   "execution_count": 26,
   "metadata": {},
   "outputs": [
    {
     "data": {
      "text/plain": [
       "9"
      ]
     },
     "execution_count": 26,
     "metadata": {},
     "output_type": "execute_result"
    }
   ],
   "source": [
    "a[2,1]"
   ]
  },
  {
   "cell_type": "code",
   "execution_count": 27,
   "metadata": {},
   "outputs": [
    {
     "data": {
      "text/plain": [
       "array([1, 5, 9])"
      ]
     },
     "execution_count": 27,
     "metadata": {},
     "output_type": "execute_result"
    }
   ],
   "source": [
    "a[:,1]"
   ]
  },
  {
   "cell_type": "code",
   "execution_count": 28,
   "metadata": {},
   "outputs": [
    {
     "data": {
      "text/plain": [
       "array([[ 0,  4,  8],\n",
       "       [ 1,  5,  9],\n",
       "       [ 2,  6, 10],\n",
       "       [ 3,  7, 11]])"
      ]
     },
     "execution_count": 28,
     "metadata": {},
     "output_type": "execute_result"
    }
   ],
   "source": [
    "a.transpose()"
   ]
  },
  {
   "cell_type": "code",
   "execution_count": 159,
   "metadata": {},
   "outputs": [],
   "source": [
    "# Numpy的读取，保存和其他操作\n",
    "import pickle\n",
    "# 新建浮点数文件\n",
    "floats = np.random.rand(10**5)\n",
    "np.savetxt('floats.txt', floats)"
   ]
  },
  {
   "cell_type": "code",
   "execution_count": 160,
   "metadata": {},
   "outputs": [
    {
     "data": {
      "text/plain": [
       "array([0.15767182, 0.94367166, 0.8096079 ])"
      ]
     },
     "execution_count": 160,
     "metadata": {},
     "output_type": "execute_result"
    }
   ],
   "source": [
    "# 读取\n",
    "floats = np.loadtxt('floats.txt')\n",
    "floats[-3:]"
   ]
  },
  {
   "cell_type": "code",
   "execution_count": 161,
   "metadata": {},
   "outputs": [
    {
     "data": {
      "text/plain": [
       "array([0.07883591, 0.47183583, 0.40480395])"
      ]
     },
     "execution_count": 161,
     "metadata": {},
     "output_type": "execute_result"
    }
   ],
   "source": [
    "floats *= .5\n",
    "floats[-3:]"
   ]
  },
  {
   "cell_type": "code",
   "execution_count": 162,
   "metadata": {},
   "outputs": [
    {
     "data": {
      "text/plain": [
       "0.00024312999448738992"
      ]
     },
     "execution_count": 162,
     "metadata": {},
     "output_type": "execute_result"
    }
   ],
   "source": [
    "# 计时看看\n",
    "from time import perf_counter as pc # 精度和性能都比较高的计时器\n",
    "t0 = pc(); floats /= 3; pc() - t0"
   ]
  },
  {
   "cell_type": "code",
   "execution_count": 163,
   "metadata": {},
   "outputs": [],
   "source": [
    "np.save('floats-10k', floats) # 保存为.npy"
   ]
  },
  {
   "cell_type": "code",
   "execution_count": 164,
   "metadata": {},
   "outputs": [
    {
     "data": {
      "text/plain": [
       "memmap([0.15767182, 0.94367166, 0.8096079 ])"
      ]
     },
     "execution_count": 164,
     "metadata": {},
     "output_type": "execute_result"
    }
   ],
   "source": [
    "floats2 = np.load('floats-10k.npy', 'r+')\n",
    "floats2 *= 6 # 变回原来大小\n",
    "floats2[-3:]"
   ]
  },
  {
   "cell_type": "markdown",
   "metadata": {},
   "source": [
    "### 2.9.4 双向队列和其他形式的队列\n",
    "组合利用`.append`和`.pop`可以把列表当作栈或者队列来使用，但是删除列表的第一个元素或者在第一个元素之前添加元素很耗时，因为涉及到移动所有的元素。\\\n",
    "`collections.deque`是一个线程安全、可以快速从两端添加或者删除元素的数据类型，比如适合存放\"最近用到的几个元素\"，因为新建`deque`可以指定大小，如果满了，就从反向端删除过期的元素，然后在尾端添加新的元素。\\\n",
    "从deque中间删除元素的操作会慢一些，因为只对头部和尾部进行了优化。"
   ]
  },
  {
   "cell_type": "code",
   "execution_count": 173,
   "metadata": {},
   "outputs": [
    {
     "data": {
      "text/plain": [
       "deque([0, 1, 2, 3, 4, 5, 6, 7, 8, 9])"
      ]
     },
     "execution_count": 173,
     "metadata": {},
     "output_type": "execute_result"
    }
   ],
   "source": [
    "from collections import deque\n",
    "dq = deque(range(10), maxlen=10)\n",
    "dq"
   ]
  },
  {
   "cell_type": "code",
   "execution_count": 174,
   "metadata": {},
   "outputs": [
    {
     "data": {
      "text/plain": [
       "deque([1, 2, 3])"
      ]
     },
     "execution_count": 174,
     "metadata": {},
     "output_type": "execute_result"
    }
   ],
   "source": [
    "dq2 = deque([1,2,3], maxlen=10)\n",
    "dq2"
   ]
  },
  {
   "cell_type": "code",
   "execution_count": 175,
   "metadata": {},
   "outputs": [
    {
     "data": {
      "text/plain": [
       "deque([7, 8, 9, 0, 1, 2, 3, 4, 5, 6])"
      ]
     },
     "execution_count": 175,
     "metadata": {},
     "output_type": "execute_result"
    }
   ],
   "source": [
    "dq.rotate(3)  # 旋转操作，若参数n大于0，右端的n个元素移动到左端，若参数小于0，左端的n个元素移动到右端。\n",
    "dq"
   ]
  },
  {
   "cell_type": "code",
   "execution_count": 176,
   "metadata": {},
   "outputs": [
    {
     "data": {
      "text/plain": [
       "deque([1, 2, 3, 4, 5, 6, 7, 8, 9, 0])"
      ]
     },
     "execution_count": 176,
     "metadata": {},
     "output_type": "execute_result"
    }
   ],
   "source": [
    "dq.rotate(-4)\n",
    "dq"
   ]
  },
  {
   "cell_type": "code",
   "execution_count": 177,
   "metadata": {},
   "outputs": [
    {
     "data": {
      "text/plain": [
       "deque([-1, 1, 2, 3, 4, 5, 6, 7, 8, 9])"
      ]
     },
     "execution_count": 177,
     "metadata": {},
     "output_type": "execute_result"
    }
   ],
   "source": [
    "dq.appendleft(-1)\n",
    "dq\n",
    "# 因为dq已满，向其头部添加元素，其尾部元素会被删除。"
   ]
  },
  {
   "cell_type": "code",
   "execution_count": 178,
   "metadata": {},
   "outputs": [
    {
     "data": {
      "text/plain": [
       "deque([3, 4, 5, 6, 7, 8, 9, 11, 22, 33])"
      ]
     },
     "execution_count": 178,
     "metadata": {},
     "output_type": "execute_result"
    }
   ],
   "source": [
    "dq.extend([11, 22, 33])\n",
    "dq"
   ]
  },
  {
   "cell_type": "code",
   "execution_count": 179,
   "metadata": {},
   "outputs": [
    {
     "data": {
      "text/plain": [
       "deque([90, 22, 11, 3, 4, 5, 6, 7, 8, 9])"
      ]
     },
     "execution_count": 179,
     "metadata": {},
     "output_type": "execute_result"
    }
   ],
   "source": [
    "dq.extendleft([11,22,90])  # 注意，是把迭代器中的元素逐个添加到deque的左边\n",
    "dq"
   ]
  },
  {
   "cell_type": "markdown",
   "metadata": {},
   "source": [
    "Python其他标准库也有对队列的实现\n",
    "* queue - 提供了同步（线程安全）类Queue, LifoQueue, PriorityQueue，不同的线程可以利用这些数据类型来交换信息，也有maxsize参数，但是在满员的时候不会丢弃旧的元素，而是锁住，直到另外的线程移除了某个元素而腾出了位置。\n",
    "* multiprocessing - 同queue.Queue一样是设计给进程间通信使用的。\n",
    "* asyncio\n",
    "* heapq\n",
    "\\\n",
    "`str`和二进制序列将在第四章专门介绍。\n",
    "\n",
    "## 2.10 本章小结\n",
    "* Python数据类型最常见的分类是可变和不可变；也可分为扁平序列和容器序列，前者体积更小、速度更快且用起来更方便，但只能保存一些原子性的数据，比如数字、字符和字节；而容器序列比较灵活，但是当容器序列遇到可变对象时，需要小心，尤其是带嵌套的数据结构。\n",
    "* 列表推导和生成器表达式灵活且强大。\n",
    "* 元组既可以作为无名称字段的记录，又可以看作不可变的列表（元组拆包；具名元组和元组一样省空间，但是提供了字段名，而且有个`._asdict()`方法）。\n",
    "* Python最受欢迎的一个语言特性是序列切片，用户自定义的数据类型也可以支持多维切片和省略。\n",
    "* 重复拼接`seq * n`；增量赋值区别对待可变序列和不可变序列，对于后者实际是生成一个新序列而非就地操作。\n",
    "* 序列的`sort`和`sorted`方法都很好用，支持一个可选参数`key`来接受一个函数来指定排序算法如何比较大小，`key`还可以用在`max`和`min`里。如果插入新元素的时候希望保持有序，可以用`bisect.insort`。\n",
    "* 列表不是唯一的选择：`array.array`, `Numpy`, `Scipy`, `collections.deque`."
   ]
  },
  {
   "cell_type": "markdown",
   "metadata": {},
   "source": [
    "> 容器：包含对其他对象的引用的对象。\n",
    "\n",
    "* 容器但非序列：`dict`和`set`。\n",
    "* 列表虽然支持容纳不同类型的元素，但是我们通常不这样做；而元组常用来存放不同类型的元素。\n",
    "* key参数很妙，只需要提供一个单参数函数来提取或者计算一个值作为比较大小的标准即可，而且让我们能对混有数字字符和数值的列表进行排序，只需要决定是把字符看成数字还是相反。 "
   ]
  },
  {
   "cell_type": "code",
   "execution_count": null,
   "metadata": {},
   "outputs": [],
   "source": []
  }
 ],
 "metadata": {
  "kernelspec": {
   "display_name": "Python 3",
   "language": "python",
   "name": "python3"
  },
  "language_info": {
   "codemirror_mode": {
    "name": "ipython",
    "version": 3
   },
   "file_extension": ".py",
   "mimetype": "text/x-python",
   "name": "python",
   "nbconvert_exporter": "python",
   "pygments_lexer": "ipython3",
   "version": "3.7.4"
  },
  "toc": {
   "base_numbering": 1,
   "nav_menu": {},
   "number_sections": true,
   "sideBar": true,
   "skip_h1_title": false,
   "title_cell": "Table of Contents",
   "title_sidebar": "Contents",
   "toc_cell": false,
   "toc_position": {
    "height": "calc(100% - 180px)",
    "left": "10px",
    "top": "150px",
    "width": "165px"
   },
   "toc_section_display": true,
   "toc_window_display": true
  }
 },
 "nbformat": 4,
 "nbformat_minor": 2
}
